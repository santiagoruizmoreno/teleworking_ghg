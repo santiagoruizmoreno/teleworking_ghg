{
 "cells": [
  {
   "cell_type": "markdown",
   "source": [
    "Hello Marie.\r\n",
    "\r\n",
    "Regarding the organizatoin of the files for the project, I will be glad to hear your comments.\r\n",
    "\r\n",
    "I propose we create, so far, a ipynb documment to estimate the fall in demand of transportation by counties.\r\n",
    "\r\n",
    "And we will see how things go for the rest.\r\n",
    "\r\n",
    "I would create probably another file called,(ex_code) example code which contains some useful functions that I think could be useful for python.\r\n",
    "\r\n",
    "As for the comments, I guess we can use the following example below\r\n",
    "\r\n",
    "Don't hesitate to propose any comments, also if you think that it is too much of a work, we can may ask for an additional extra help, knowing that more people requires more coordination. \r\n",
    "\r\n",
    "Anywas, text me once you get to configurate your files and VS Code. \r\n",
    "\r\n",
    "Best"
   ],
   "metadata": {}
  },
  {
   "cell_type": "markdown",
   "source": [
    "Also when wanting to leave a special comment to other one I propose we use a @Marie or @Santiago tag at the beggining of the line\r\n",
    "@ Marie, ok?"
   ],
   "metadata": {}
  },
  {
   "cell_type": "code",
   "execution_count": 1,
   "source": [
    "!pip install wheel\r\n",
    "!pip install pandas\r\n",
    "!pip install plotly\r\n",
    "!pip install numpy\r\n",
    "!pip install matplotlib"
   ],
   "outputs": [
    {
     "output_type": "stream",
     "name": "stdout",
     "text": [
      "Requirement already satisfied: wheel in c:\\users\\santi\\appdata\\local\\packages\\pythonsoftwarefoundation.python.3.9_qbz5n2kfra8p0\\localcache\\local-packages\\python39\\site-packages (0.37.0)\n",
      "Requirement already satisfied: pandas in c:\\users\\santi\\appdata\\local\\packages\\pythonsoftwarefoundation.python.3.9_qbz5n2kfra8p0\\localcache\\local-packages\\python39\\site-packages (1.3.0)\n",
      "Requirement already satisfied: numpy>=1.17.3 in c:\\users\\santi\\appdata\\local\\packages\\pythonsoftwarefoundation.python.3.9_qbz5n2kfra8p0\\localcache\\local-packages\\python39\\site-packages (from pandas) (1.21.0)\n",
      "Requirement already satisfied: pytz>=2017.3 in c:\\users\\santi\\appdata\\local\\packages\\pythonsoftwarefoundation.python.3.9_qbz5n2kfra8p0\\localcache\\local-packages\\python39\\site-packages (from pandas) (2021.1)\n",
      "Requirement already satisfied: python-dateutil>=2.7.3 in c:\\users\\santi\\appdata\\local\\packages\\pythonsoftwarefoundation.python.3.9_qbz5n2kfra8p0\\localcache\\local-packages\\python39\\site-packages (from pandas) (2.8.1)\n",
      "Requirement already satisfied: six>=1.5 in c:\\users\\santi\\appdata\\local\\packages\\pythonsoftwarefoundation.python.3.9_qbz5n2kfra8p0\\localcache\\local-packages\\python39\\site-packages (from python-dateutil>=2.7.3->pandas) (1.16.0)\n",
      "Requirement already satisfied: plotly in c:\\users\\santi\\appdata\\local\\packages\\pythonsoftwarefoundation.python.3.9_qbz5n2kfra8p0\\localcache\\local-packages\\python39\\site-packages (5.3.1)\n",
      "Requirement already satisfied: tenacity>=6.2.0 in c:\\users\\santi\\appdata\\local\\packages\\pythonsoftwarefoundation.python.3.9_qbz5n2kfra8p0\\localcache\\local-packages\\python39\\site-packages (from plotly) (8.0.1)\n",
      "Requirement already satisfied: six in c:\\users\\santi\\appdata\\local\\packages\\pythonsoftwarefoundation.python.3.9_qbz5n2kfra8p0\\localcache\\local-packages\\python39\\site-packages (from plotly) (1.16.0)\n",
      "Requirement already satisfied: numpy in c:\\users\\santi\\appdata\\local\\packages\\pythonsoftwarefoundation.python.3.9_qbz5n2kfra8p0\\localcache\\local-packages\\python39\\site-packages (1.21.0)\n",
      "Requirement already satisfied: matplotlib in c:\\users\\santi\\appdata\\local\\packages\\pythonsoftwarefoundation.python.3.9_qbz5n2kfra8p0\\localcache\\local-packages\\python39\\site-packages (3.4.2)\n",
      "Requirement already satisfied: kiwisolver>=1.0.1 in c:\\users\\santi\\appdata\\local\\packages\\pythonsoftwarefoundation.python.3.9_qbz5n2kfra8p0\\localcache\\local-packages\\python39\\site-packages (from matplotlib) (1.3.1)\n",
      "Requirement already satisfied: cycler>=0.10 in c:\\users\\santi\\appdata\\local\\packages\\pythonsoftwarefoundation.python.3.9_qbz5n2kfra8p0\\localcache\\local-packages\\python39\\site-packages (from matplotlib) (0.10.0)\n",
      "Requirement already satisfied: python-dateutil>=2.7 in c:\\users\\santi\\appdata\\local\\packages\\pythonsoftwarefoundation.python.3.9_qbz5n2kfra8p0\\localcache\\local-packages\\python39\\site-packages (from matplotlib) (2.8.1)\n",
      "Requirement already satisfied: pyparsing>=2.2.1 in c:\\users\\santi\\appdata\\local\\packages\\pythonsoftwarefoundation.python.3.9_qbz5n2kfra8p0\\localcache\\local-packages\\python39\\site-packages (from matplotlib) (2.4.7)\n",
      "Requirement already satisfied: numpy>=1.16 in c:\\users\\santi\\appdata\\local\\packages\\pythonsoftwarefoundation.python.3.9_qbz5n2kfra8p0\\localcache\\local-packages\\python39\\site-packages (from matplotlib) (1.21.0)\n",
      "Requirement already satisfied: pillow>=6.2.0 in c:\\users\\santi\\appdata\\local\\packages\\pythonsoftwarefoundation.python.3.9_qbz5n2kfra8p0\\localcache\\local-packages\\python39\\site-packages (from matplotlib) (8.3.1)\n",
      "Requirement already satisfied: six in c:\\users\\santi\\appdata\\local\\packages\\pythonsoftwarefoundation.python.3.9_qbz5n2kfra8p0\\localcache\\local-packages\\python39\\site-packages (from cycler>=0.10->matplotlib) (1.16.0)\n"
     ]
    }
   ],
   "metadata": {}
  },
  {
   "cell_type": "code",
   "execution_count": 2,
   "source": [
    "###### The purpose of these lines is.....\r\n",
    "###### \r\n",
    "### Comment: What's the purpose of the function.\r\n",
    "def function (var1, var2):\r\n",
    "### What the function does, and why the variables are needed. \r\n",
    "    return()\r\n",
    "### what does it return and in which format"
   ],
   "outputs": [],
   "metadata": {}
  },
  {
   "cell_type": "code",
   "execution_count": 3,
   "source": [
    "### Importing the needed packages\r\n",
    "import pandas as pd\r\n",
    "import numpy as np\r\n",
    "import os\r\n",
    "import matplotlib"
   ],
   "outputs": [],
   "metadata": {}
  },
  {
   "cell_type": "code",
   "execution_count": 4,
   "source": [
    "# Setting the directory: Maybe instead of modifying this line, you can add a new line with your path\r\n",
    "# os.chdir(\"C:/Users/santi/OneDrive/GHG_07_08_2021/Data/movement-range-data-2021-04-27/\")\r\n",
    "os.chdir(\"/Users/marie/Desktop/Papier/Data/movement-range-2021-04-27/\")"
   ],
   "outputs": [
    {
     "output_type": "error",
     "ename": "FileNotFoundError",
     "evalue": "[WinError 3] The system cannot find the path specified: '/Users/marie/Desktop/Papier/Data/movement-range-2021-04-27/'",
     "traceback": [
      "\u001b[1;31m---------------------------------------------------------------------------\u001b[0m",
      "\u001b[1;31mFileNotFoundError\u001b[0m                         Traceback (most recent call last)",
      "\u001b[1;32m~\\AppData\\Local\\Temp/ipykernel_10900/2500245868.py\u001b[0m in \u001b[0;36m<module>\u001b[1;34m\u001b[0m\n\u001b[0;32m      1\u001b[0m \u001b[1;31m# Setting the directory: Maybe instead of modifying this line, you can add a new line with your path\u001b[0m\u001b[1;33m\u001b[0m\u001b[1;33m\u001b[0m\u001b[0m\n\u001b[0;32m      2\u001b[0m \u001b[1;31m# os.chdir(\"C:/Users/santi/OneDrive/GHG_07_08_2021/Data/movement-range-data-2021-04-27/\")\u001b[0m\u001b[1;33m\u001b[0m\u001b[1;33m\u001b[0m\u001b[0m\n\u001b[1;32m----> 3\u001b[1;33m \u001b[0mos\u001b[0m\u001b[1;33m.\u001b[0m\u001b[0mchdir\u001b[0m\u001b[1;33m(\u001b[0m\u001b[1;34m\"/Users/marie/Desktop/Papier/Data/movement-range-2021-04-27/\"\u001b[0m\u001b[1;33m)\u001b[0m\u001b[1;33m\u001b[0m\u001b[1;33m\u001b[0m\u001b[0m\n\u001b[0m",
      "\u001b[1;31mFileNotFoundError\u001b[0m: [WinError 3] The system cannot find the path specified: '/Users/marie/Desktop/Papier/Data/movement-range-2021-04-27/'"
     ]
    }
   ],
   "metadata": {}
  },
  {
   "cell_type": "code",
   "execution_count": 5,
   "source": [
    "os.chdir(\"C:/Users/santi/OneDrive/GHG_07_08_2021/Data/movement-range-data-2021-04-27/\")"
   ],
   "outputs": [],
   "metadata": {}
  },
  {
   "cell_type": "code",
   "execution_count": 6,
   "source": [
    "facebook_data = pd.read_table(\"movement-range-2021-04-27.txt\")"
   ],
   "outputs": [
    {
     "output_type": "stream",
     "name": "stderr",
     "text": [
      "C:\\Users\\santi\\AppData\\Local\\Packages\\PythonSoftwareFoundation.Python.3.9_qbz5n2kfra8p0\\LocalCache\\local-packages\\Python39\\site-packages\\IPython\\core\\interactiveshell.py:3441: DtypeWarning: Columns (3) have mixed types.Specify dtype option on import or set low_memory=False.\n",
      "  exec(code_obj, self.user_global_ns, self.user_ns)\n"
     ]
    }
   ],
   "metadata": {}
  },
  {
   "cell_type": "code",
   "execution_count": 7,
   "source": [
    "# Importing Facebook Data\r\n",
    "ones = []\r\n",
    "# Loop to add a column of ones to the dataset \r\n",
    "for i in range(facebook_data.shape[0]):\r\n",
    "    ones.append(1)\r\n",
    "# Adding it to the dataset\r\n",
    "facebook_data['ones'] = ones\r\n",
    "# Getting the count of observations by Country\r\n",
    "by_country = facebook_data['ones'].groupby(facebook_data.country).sum()\r\n",
    "# Observatoins in the United States\r\n",
    "print(by_country[by_country.index == \"USA\"])\r\n",
    "# Creating a smaller database with only USA's observations\r\n",
    "facebook_data_USA = facebook_data[facebook_data.country == \"USA\"]"
   ],
   "outputs": [
    {
     "output_type": "stream",
     "name": "stdout",
     "text": [
      "country\n",
      "USA    1028263\n",
      "Name: ones, dtype: int64\n"
     ]
    }
   ],
   "metadata": {}
  },
  {
   "cell_type": "code",
   "execution_count": 8,
   "source": [
    "#To see how the data set looks like \r\n",
    "facebook_data_USA.head()"
   ],
   "outputs": [
    {
     "output_type": "execute_result",
     "data": {
      "text/html": [
       "<div>\n",
       "<style scoped>\n",
       "    .dataframe tbody tr th:only-of-type {\n",
       "        vertical-align: middle;\n",
       "    }\n",
       "\n",
       "    .dataframe tbody tr th {\n",
       "        vertical-align: top;\n",
       "    }\n",
       "\n",
       "    .dataframe thead th {\n",
       "        text-align: right;\n",
       "    }\n",
       "</style>\n",
       "<table border=\"1\" class=\"dataframe\">\n",
       "  <thead>\n",
       "    <tr style=\"text-align: right;\">\n",
       "      <th></th>\n",
       "      <th>ds</th>\n",
       "      <th>country</th>\n",
       "      <th>polygon_source</th>\n",
       "      <th>polygon_id</th>\n",
       "      <th>polygon_name</th>\n",
       "      <th>all_day_bing_tiles_visited_relative_change</th>\n",
       "      <th>all_day_ratio_single_tile_users</th>\n",
       "      <th>baseline_name</th>\n",
       "      <th>baseline_type</th>\n",
       "      <th>ones</th>\n",
       "    </tr>\n",
       "  </thead>\n",
       "  <tbody>\n",
       "    <tr>\n",
       "      <th>5397902</th>\n",
       "      <td>2020-03-01</td>\n",
       "      <td>USA</td>\n",
       "      <td>FIPS</td>\n",
       "      <td>01001</td>\n",
       "      <td>Autauga</td>\n",
       "      <td>0.04845</td>\n",
       "      <td>0.18910</td>\n",
       "      <td>full_february_except_presidents_day</td>\n",
       "      <td>DAY_OF_WEEK</td>\n",
       "      <td>1</td>\n",
       "    </tr>\n",
       "    <tr>\n",
       "      <th>5397903</th>\n",
       "      <td>2020-03-02</td>\n",
       "      <td>USA</td>\n",
       "      <td>FIPS</td>\n",
       "      <td>01001</td>\n",
       "      <td>Autauga</td>\n",
       "      <td>0.03275</td>\n",
       "      <td>0.15003</td>\n",
       "      <td>full_february_except_presidents_day</td>\n",
       "      <td>DAY_OF_WEEK</td>\n",
       "      <td>1</td>\n",
       "    </tr>\n",
       "    <tr>\n",
       "      <th>5397904</th>\n",
       "      <td>2020-03-03</td>\n",
       "      <td>USA</td>\n",
       "      <td>FIPS</td>\n",
       "      <td>01001</td>\n",
       "      <td>Autauga</td>\n",
       "      <td>0.05122</td>\n",
       "      <td>0.14391</td>\n",
       "      <td>full_february_except_presidents_day</td>\n",
       "      <td>DAY_OF_WEEK</td>\n",
       "      <td>1</td>\n",
       "    </tr>\n",
       "    <tr>\n",
       "      <th>5397905</th>\n",
       "      <td>2020-03-04</td>\n",
       "      <td>USA</td>\n",
       "      <td>FIPS</td>\n",
       "      <td>01001</td>\n",
       "      <td>Autauga</td>\n",
       "      <td>-0.04741</td>\n",
       "      <td>0.16058</td>\n",
       "      <td>full_february_except_presidents_day</td>\n",
       "      <td>DAY_OF_WEEK</td>\n",
       "      <td>1</td>\n",
       "    </tr>\n",
       "    <tr>\n",
       "      <th>5397906</th>\n",
       "      <td>2020-03-05</td>\n",
       "      <td>USA</td>\n",
       "      <td>FIPS</td>\n",
       "      <td>01001</td>\n",
       "      <td>Autauga</td>\n",
       "      <td>0.06285</td>\n",
       "      <td>0.15298</td>\n",
       "      <td>full_february_except_presidents_day</td>\n",
       "      <td>DAY_OF_WEEK</td>\n",
       "      <td>1</td>\n",
       "    </tr>\n",
       "  </tbody>\n",
       "</table>\n",
       "</div>"
      ],
      "text/plain": [
       "                 ds country polygon_source polygon_id polygon_name  \\\n",
       "5397902  2020-03-01     USA           FIPS      01001      Autauga   \n",
       "5397903  2020-03-02     USA           FIPS      01001      Autauga   \n",
       "5397904  2020-03-03     USA           FIPS      01001      Autauga   \n",
       "5397905  2020-03-04     USA           FIPS      01001      Autauga   \n",
       "5397906  2020-03-05     USA           FIPS      01001      Autauga   \n",
       "\n",
       "         all_day_bing_tiles_visited_relative_change  \\\n",
       "5397902                                     0.04845   \n",
       "5397903                                     0.03275   \n",
       "5397904                                     0.05122   \n",
       "5397905                                    -0.04741   \n",
       "5397906                                     0.06285   \n",
       "\n",
       "         all_day_ratio_single_tile_users                        baseline_name  \\\n",
       "5397902                          0.18910  full_february_except_presidents_day   \n",
       "5397903                          0.15003  full_february_except_presidents_day   \n",
       "5397904                          0.14391  full_february_except_presidents_day   \n",
       "5397905                          0.16058  full_february_except_presidents_day   \n",
       "5397906                          0.15298  full_february_except_presidents_day   \n",
       "\n",
       "        baseline_type  ones  \n",
       "5397902   DAY_OF_WEEK     1  \n",
       "5397903   DAY_OF_WEEK     1  \n",
       "5397904   DAY_OF_WEEK     1  \n",
       "5397905   DAY_OF_WEEK     1  \n",
       "5397906   DAY_OF_WEEK     1  "
      ]
     },
     "metadata": {},
     "execution_count": 8
    }
   ],
   "metadata": {}
  },
  {
   "cell_type": "code",
   "execution_count": 9,
   "source": [
    "# To check whether the poligons correspond with the ones in the Occupations dataset \r\n",
    "# As a comment because the list is very long\r\n",
    "# counties=set(facebook_data_USA.polygon_name) \r\n",
    "# counties"
   ],
   "outputs": [],
   "metadata": {}
  },
  {
   "cell_type": "code",
   "execution_count": null,
   "source": [
    "# Getting the count of observations by county\r\n",
    "by_county = facebook_data['ones'].groupby(facebook_data.polygon_name).sum()\r\n",
    "# Observatoins in Los Angeles\r\n",
    "print(by_county[by_county.index == \"Los Angeles\"])"
   ],
   "outputs": [
    {
     "output_type": "stream",
     "name": "stdout",
     "text": [
      "polygon_name\n",
      "Los Angeles    423\n",
      "Name: ones, dtype: int64\n"
     ]
    }
   ],
   "metadata": {}
  },
  {
   "cell_type": "code",
   "execution_count": null,
   "source": [
    "facebook_data_USA[facebook_data_USA.polygon_name == \"Los Angeles\"]\r\n",
    "#Each observation corresponds to one day "
   ],
   "outputs": [
    {
     "output_type": "execute_result",
     "data": {
      "text/html": [
       "<div>\n",
       "<style scoped>\n",
       "    .dataframe tbody tr th:only-of-type {\n",
       "        vertical-align: middle;\n",
       "    }\n",
       "\n",
       "    .dataframe tbody tr th {\n",
       "        vertical-align: top;\n",
       "    }\n",
       "\n",
       "    .dataframe thead th {\n",
       "        text-align: right;\n",
       "    }\n",
       "</style>\n",
       "<table border=\"1\" class=\"dataframe\">\n",
       "  <thead>\n",
       "    <tr style=\"text-align: right;\">\n",
       "      <th></th>\n",
       "      <th>ds</th>\n",
       "      <th>country</th>\n",
       "      <th>polygon_source</th>\n",
       "      <th>polygon_id</th>\n",
       "      <th>polygon_name</th>\n",
       "      <th>all_day_bing_tiles_visited_relative_change</th>\n",
       "      <th>all_day_ratio_single_tile_users</th>\n",
       "      <th>baseline_name</th>\n",
       "      <th>baseline_type</th>\n",
       "      <th>ones</th>\n",
       "    </tr>\n",
       "  </thead>\n",
       "  <tbody>\n",
       "    <tr>\n",
       "      <th>5466168</th>\n",
       "      <td>2020-03-01</td>\n",
       "      <td>USA</td>\n",
       "      <td>FIPS</td>\n",
       "      <td>6037</td>\n",
       "      <td>Los Angeles</td>\n",
       "      <td>-0.01012</td>\n",
       "      <td>0.15700</td>\n",
       "      <td>full_february_except_presidents_day</td>\n",
       "      <td>DAY_OF_WEEK</td>\n",
       "      <td>1</td>\n",
       "    </tr>\n",
       "    <tr>\n",
       "      <th>5466169</th>\n",
       "      <td>2020-03-02</td>\n",
       "      <td>USA</td>\n",
       "      <td>FIPS</td>\n",
       "      <td>6037</td>\n",
       "      <td>Los Angeles</td>\n",
       "      <td>0.00395</td>\n",
       "      <td>0.11065</td>\n",
       "      <td>full_february_except_presidents_day</td>\n",
       "      <td>DAY_OF_WEEK</td>\n",
       "      <td>1</td>\n",
       "    </tr>\n",
       "    <tr>\n",
       "      <th>5466170</th>\n",
       "      <td>2020-03-03</td>\n",
       "      <td>USA</td>\n",
       "      <td>FIPS</td>\n",
       "      <td>6037</td>\n",
       "      <td>Los Angeles</td>\n",
       "      <td>0.02396</td>\n",
       "      <td>0.10284</td>\n",
       "      <td>full_february_except_presidents_day</td>\n",
       "      <td>DAY_OF_WEEK</td>\n",
       "      <td>1</td>\n",
       "    </tr>\n",
       "    <tr>\n",
       "      <th>5466171</th>\n",
       "      <td>2020-03-04</td>\n",
       "      <td>USA</td>\n",
       "      <td>FIPS</td>\n",
       "      <td>6037</td>\n",
       "      <td>Los Angeles</td>\n",
       "      <td>-0.00217</td>\n",
       "      <td>0.10628</td>\n",
       "      <td>full_february_except_presidents_day</td>\n",
       "      <td>DAY_OF_WEEK</td>\n",
       "      <td>1</td>\n",
       "    </tr>\n",
       "    <tr>\n",
       "      <th>5466172</th>\n",
       "      <td>2020-03-05</td>\n",
       "      <td>USA</td>\n",
       "      <td>FIPS</td>\n",
       "      <td>6037</td>\n",
       "      <td>Los Angeles</td>\n",
       "      <td>-0.00293</td>\n",
       "      <td>0.10797</td>\n",
       "      <td>full_february_except_presidents_day</td>\n",
       "      <td>DAY_OF_WEEK</td>\n",
       "      <td>1</td>\n",
       "    </tr>\n",
       "    <tr>\n",
       "      <th>...</th>\n",
       "      <td>...</td>\n",
       "      <td>...</td>\n",
       "      <td>...</td>\n",
       "      <td>...</td>\n",
       "      <td>...</td>\n",
       "      <td>...</td>\n",
       "      <td>...</td>\n",
       "      <td>...</td>\n",
       "      <td>...</td>\n",
       "      <td>...</td>\n",
       "    </tr>\n",
       "    <tr>\n",
       "      <th>5466586</th>\n",
       "      <td>2021-04-23</td>\n",
       "      <td>USA</td>\n",
       "      <td>FIPS</td>\n",
       "      <td>6037</td>\n",
       "      <td>Los Angeles</td>\n",
       "      <td>-0.15211</td>\n",
       "      <td>0.16415</td>\n",
       "      <td>full_february_except_presidents_day</td>\n",
       "      <td>DAY_OF_WEEK</td>\n",
       "      <td>1</td>\n",
       "    </tr>\n",
       "    <tr>\n",
       "      <th>5466587</th>\n",
       "      <td>2021-04-24</td>\n",
       "      <td>USA</td>\n",
       "      <td>FIPS</td>\n",
       "      <td>6037</td>\n",
       "      <td>Los Angeles</td>\n",
       "      <td>-0.09710</td>\n",
       "      <td>0.17853</td>\n",
       "      <td>full_february_except_presidents_day</td>\n",
       "      <td>DAY_OF_WEEK</td>\n",
       "      <td>1</td>\n",
       "    </tr>\n",
       "    <tr>\n",
       "      <th>5466588</th>\n",
       "      <td>2021-04-25</td>\n",
       "      <td>USA</td>\n",
       "      <td>FIPS</td>\n",
       "      <td>6037</td>\n",
       "      <td>Los Angeles</td>\n",
       "      <td>-0.08621</td>\n",
       "      <td>0.20428</td>\n",
       "      <td>full_february_except_presidents_day</td>\n",
       "      <td>DAY_OF_WEEK</td>\n",
       "      <td>1</td>\n",
       "    </tr>\n",
       "    <tr>\n",
       "      <th>5466589</th>\n",
       "      <td>2021-04-26</td>\n",
       "      <td>USA</td>\n",
       "      <td>FIPS</td>\n",
       "      <td>6037</td>\n",
       "      <td>Los Angeles</td>\n",
       "      <td>-0.14627</td>\n",
       "      <td>0.17540</td>\n",
       "      <td>full_february_except_presidents_day</td>\n",
       "      <td>DAY_OF_WEEK</td>\n",
       "      <td>1</td>\n",
       "    </tr>\n",
       "    <tr>\n",
       "      <th>5466590</th>\n",
       "      <td>2021-04-27</td>\n",
       "      <td>USA</td>\n",
       "      <td>FIPS</td>\n",
       "      <td>6037</td>\n",
       "      <td>Los Angeles</td>\n",
       "      <td>-0.15419</td>\n",
       "      <td>0.17378</td>\n",
       "      <td>full_february_except_presidents_day</td>\n",
       "      <td>DAY_OF_WEEK</td>\n",
       "      <td>1</td>\n",
       "    </tr>\n",
       "  </tbody>\n",
       "</table>\n",
       "<p>423 rows × 10 columns</p>\n",
       "</div>"
      ],
      "text/plain": [
       "                 ds country polygon_source polygon_id polygon_name  \\\n",
       "5466168  2020-03-01     USA           FIPS       6037  Los Angeles   \n",
       "5466169  2020-03-02     USA           FIPS       6037  Los Angeles   \n",
       "5466170  2020-03-03     USA           FIPS       6037  Los Angeles   \n",
       "5466171  2020-03-04     USA           FIPS       6037  Los Angeles   \n",
       "5466172  2020-03-05     USA           FIPS       6037  Los Angeles   \n",
       "...             ...     ...            ...        ...          ...   \n",
       "5466586  2021-04-23     USA           FIPS       6037  Los Angeles   \n",
       "5466587  2021-04-24     USA           FIPS       6037  Los Angeles   \n",
       "5466588  2021-04-25     USA           FIPS       6037  Los Angeles   \n",
       "5466589  2021-04-26     USA           FIPS       6037  Los Angeles   \n",
       "5466590  2021-04-27     USA           FIPS       6037  Los Angeles   \n",
       "\n",
       "         all_day_bing_tiles_visited_relative_change  \\\n",
       "5466168                                    -0.01012   \n",
       "5466169                                     0.00395   \n",
       "5466170                                     0.02396   \n",
       "5466171                                    -0.00217   \n",
       "5466172                                    -0.00293   \n",
       "...                                             ...   \n",
       "5466586                                    -0.15211   \n",
       "5466587                                    -0.09710   \n",
       "5466588                                    -0.08621   \n",
       "5466589                                    -0.14627   \n",
       "5466590                                    -0.15419   \n",
       "\n",
       "         all_day_ratio_single_tile_users                        baseline_name  \\\n",
       "5466168                          0.15700  full_february_except_presidents_day   \n",
       "5466169                          0.11065  full_february_except_presidents_day   \n",
       "5466170                          0.10284  full_february_except_presidents_day   \n",
       "5466171                          0.10628  full_february_except_presidents_day   \n",
       "5466172                          0.10797  full_february_except_presidents_day   \n",
       "...                                  ...                                  ...   \n",
       "5466586                          0.16415  full_february_except_presidents_day   \n",
       "5466587                          0.17853  full_february_except_presidents_day   \n",
       "5466588                          0.20428  full_february_except_presidents_day   \n",
       "5466589                          0.17540  full_february_except_presidents_day   \n",
       "5466590                          0.17378  full_february_except_presidents_day   \n",
       "\n",
       "        baseline_type  ones  \n",
       "5466168   DAY_OF_WEEK     1  \n",
       "5466169   DAY_OF_WEEK     1  \n",
       "5466170   DAY_OF_WEEK     1  \n",
       "5466171   DAY_OF_WEEK     1  \n",
       "5466172   DAY_OF_WEEK     1  \n",
       "...               ...   ...  \n",
       "5466586   DAY_OF_WEEK     1  \n",
       "5466587   DAY_OF_WEEK     1  \n",
       "5466588   DAY_OF_WEEK     1  \n",
       "5466589   DAY_OF_WEEK     1  \n",
       "5466590   DAY_OF_WEEK     1  \n",
       "\n",
       "[423 rows x 10 columns]"
      ]
     },
     "metadata": {},
     "execution_count": 9
    }
   ],
   "metadata": {}
  },
  {
   "cell_type": "code",
   "execution_count": 10,
   "source": [
    "# Checking the behavior of a random county in California\r\n",
    "facebook_data_USA[facebook_data_USA.polygon_name == \"Los Angeles\"][\"all_day_bing_tiles_visited_relative_change\"].plot()\r\n",
    "facebook_data_USA[\"date\"] = pd.to_datetime(facebook_data_USA[facebook_data_USA.polygon_name == \"Los Angeles\"]['ds'])\r\n",
    "\r\n",
    "# @Santiago, "
   ],
   "outputs": [
    {
     "output_type": "stream",
     "name": "stderr",
     "text": [
      "C:\\Users\\santi\\AppData\\Local\\Packages\\PythonSoftwareFoundation.Python.3.9_qbz5n2kfra8p0\\LocalCache\\local-packages\\Python39\\site-packages\\pandas\\core\\frame.py:3607: SettingWithCopyWarning: \n",
      "A value is trying to be set on a copy of a slice from a DataFrame.\n",
      "Try using .loc[row_indexer,col_indexer] = value instead\n",
      "\n",
      "See the caveats in the documentation: https://pandas.pydata.org/pandas-docs/stable/user_guide/indexing.html#returning-a-view-versus-a-copy\n",
      "  self._set_item(key, value)\n"
     ]
    },
    {
     "output_type": "display_data",
     "data": {
      "image/png": "[encoded data removed]",
      "text/plain": [
       "<Figure size 432x288 with 1 Axes>"
      ]
     },
     "metadata": {
      "needs_background": "light"
     }
    }
   ],
   "metadata": {}
  },
  {
   "cell_type": "code",
   "execution_count": 15,
   "source": [
    "facebook_data_USA[\"date\"]"
   ],
   "outputs": [
    {
     "output_type": "execute_result",
     "data": {
      "text/plain": [
       "5397902   NaT\n",
       "5397903   NaT\n",
       "5397904   NaT\n",
       "5397905   NaT\n",
       "5397906   NaT\n",
       "           ..\n",
       "6426160   NaT\n",
       "6426161   NaT\n",
       "6426162   NaT\n",
       "6426163   NaT\n",
       "6426164   NaT\n",
       "Name: date, Length: 1028263, dtype: datetime64[ns]"
      ]
     },
     "metadata": {},
     "execution_count": 15
    }
   ],
   "metadata": {}
  },
  {
   "cell_type": "code",
   "execution_count": 20,
   "source": [
    "### Ploting the graph with the dates \r\n",
    "### Improved plots\r\n",
    "import plotly.express as px \r\n",
    "import plotly.graph_objs as go\r\n",
    "\r\n",
    "fig = go.Figure(data=go.Scatter(x= facebook_data_USA[facebook_data_USA.polygon_name == \"Los Angeles\"]['ds'].astype(dtype=str), \r\n",
    "                        y= facebook_data_USA[facebook_data_USA.polygon_name == \"Buffalo\"][\"all_day_bing_tiles_visited_relative_change\"],\r\n",
    "                        marker_color='indianred', text=\"counts\"))\r\n",
    "fig.update_layout({\"title\": 'Relative Change on Movement',\r\n",
    "                   \"xaxis\": {\"title\":\"Months\"},\r\n",
    "                   \"yaxis\": {\"title\":\"\"},\r\n",
    "                   \"showlegend\": False})\r\n",
    "fig.write_image(\"by-month.png\",format=\"png\", width=1000, height=600, scale=3)\r\n",
    "fig.show()\r\n",
    "\r\n",
    "fig = go.Figure(data=go.Scatter(x= facebook_data_USA[facebook_data_USA.polygon_name == \"Los Angeles\"]['ds'].astype(dtype=str), \r\n",
    "                        y= facebook_data_USA[facebook_data_USA.polygon_name == \"Buffalo\"][\"all_day_ratio_single_tile_users\"],\r\n",
    "                        marker_color='indianred', text=\"counts\"))\r\n",
    "fig.update_layout({\"title\": 'Staying in Put',\r\n",
    "                   \"xaxis\": {\"title\":\"Months\"},\r\n",
    "                   \"yaxis\": {\"title\":\"\"},\r\n",
    "                   \"showlegend\": False})\r\n",
    "fig.write_image(\"by-month.png\",format=\"png\", width=1000, height=600, scale=3)\r\n",
    "fig.show()"
   ],
   "outputs": [
    {
     "output_type": "display_data",
     "data": {
      "application/vnd.plotly.v1+json": {
       "config": {
        "plotlyServerURL": "https://plot.ly"
       },
       "data": [
        {
         "marker": {
          "color": "indianred"
         },
         "text": "counts",
         "type": "scatter",
         "x": [
          "2020-03-01",
          "2020-03-02",
          "2020-03-03",
          "2020-03-04",
          "2020-03-05",
          "2020-03-06",
          "2020-03-07",
          "2020-03-08",
          "2020-03-09",
          "2020-03-10",
          "2020-03-11",
          "2020-03-12",
          "2020-03-13",
          "2020-03-14",
          "2020-03-15",
          "2020-03-16",
          "2020-03-17",
          "2020-03-18",
          "2020-03-19",
          "2020-03-20",
          "2020-03-21",
          "2020-03-22",
          "2020-03-23",
          "2020-03-24",
          "2020-03-25",
          "2020-03-26",
          "2020-03-27",
          "2020-03-28",
          "2020-03-29",
          "2020-03-30",
          "2020-03-31",
          "2020-04-01",
          "2020-04-02",
          "2020-04-03",
          "2020-04-04",
          "2020-04-05",
          "2020-04-06",
          "2020-04-07",
          "2020-04-08",
          "2020-04-09",
          "2020-04-10",
          "2020-04-11",
          "2020-04-12",
          "2020-04-13",
          "2020-04-14",
          "2020-04-15",
          "2020-04-16",
          "2020-04-17",
          "2020-04-18",
          "2020-04-19",
          "2020-04-20",
          "2020-04-21",
          "2020-04-22",
          "2020-04-23",
          "2020-04-24",
          "2020-04-25",
          "2020-04-26",
          "2020-04-27",
          "2020-04-28",
          "2020-04-29",
          "2020-04-30",
          "2020-05-01",
          "2020-05-02",
          "2020-05-03",
          "2020-05-04",
          "2020-05-05",
          "2020-05-06",
          "2020-05-07",
          "2020-05-08",
          "2020-05-09",
          "2020-05-10",
          "2020-05-11",
          "2020-05-12",
          "2020-05-13",
          "2020-05-14",
          "2020-05-15",
          "2020-05-16",
          "2020-05-17",
          "2020-05-18",
          "2020-05-19",
          "2020-05-20",
          "2020-05-21",
          "2020-05-22",
          "2020-05-23",
          "2020-05-24",
          "2020-05-25",
          "2020-05-26",
          "2020-05-27",
          "2020-05-28",
          "2020-05-29",
          "2020-05-30",
          "2020-05-31",
          "2020-06-01",
          "2020-06-02",
          "2020-06-03",
          "2020-06-04",
          "2020-06-05",
          "2020-06-06",
          "2020-06-07",
          "2020-06-08",
          "2020-06-09",
          "2020-06-10",
          "2020-06-11",
          "2020-06-12",
          "2020-06-13",
          "2020-06-14",
          "2020-06-15",
          "2020-06-16",
          "2020-06-17",
          "2020-06-18",
          "2020-06-19",
          "2020-06-20",
          "2020-06-21",
          "2020-06-22",
          "2020-06-23",
          "2020-06-24",
          "2020-06-25",
          "2020-06-26",
          "2020-06-27",
          "2020-06-28",
          "2020-06-29",
          "2020-06-30",
          "2020-07-01",
          "2020-07-02",
          "2020-07-03",
          "2020-07-04",
          "2020-07-05",
          "2020-07-06",
          "2020-07-07",
          "2020-07-08",
          "2020-07-09",
          "2020-07-10",
          "2020-07-11",
          "2020-07-12",
          "2020-07-13",
          "2020-07-14",
          "2020-07-15",
          "2020-07-16",
          "2020-07-17",
          "2020-07-18",
          "2020-07-19",
          "2020-07-20",
          "2020-07-21",
          "2020-07-22",
          "2020-07-23",
          "2020-07-24",
          "2020-07-25",
          "2020-07-26",
          "2020-07-27",
          "2020-07-28",
          "2020-07-29",
          "2020-07-30",
          "2020-07-31",
          "2020-08-01",
          "2020-08-02",
          "2020-08-03",
          "2020-08-04",
          "2020-08-05",
          "2020-08-06",
          "2020-08-07",
          "2020-08-08",
          "2020-08-09",
          "2020-08-10",
          "2020-08-11",
          "2020-08-12",
          "2020-08-13",
          "2020-08-14",
          "2020-08-15",
          "2020-08-16",
          "2020-08-17",
          "2020-08-18",
          "2020-08-19",
          "2020-08-20",
          "2020-08-21",
          "2020-08-22",
          "2020-08-23",
          "2020-08-24",
          "2020-08-25",
          "2020-08-26",
          "2020-08-27",
          "2020-08-28",
          "2020-08-29",
          "2020-08-30",
          "2020-08-31",
          "2020-09-01",
          "2020-09-02",
          "2020-09-03",
          "2020-09-04",
          "2020-09-05",
          "2020-09-06",
          "2020-09-07",
          "2020-09-08",
          "2020-09-09",
          "2020-09-10",
          "2020-09-11",
          "2020-09-12",
          "2020-09-13",
          "2020-09-14",
          "2020-09-15",
          "2020-09-16",
          "2020-09-17",
          "2020-09-18",
          "2020-09-19",
          "2020-09-20",
          "2020-09-21",
          "2020-09-22",
          "2020-09-23",
          "2020-09-24",
          "2020-09-25",
          "2020-09-26",
          "2020-09-27",
          "2020-09-28",
          "2020-09-29",
          "2020-09-30",
          "2020-10-01",
          "2020-10-02",
          "2020-10-03",
          "2020-10-04",
          "2020-10-05",
          "2020-10-06",
          "2020-10-07",
          "2020-10-08",
          "2020-10-09",
          "2020-10-10",
          "2020-10-11",
          "2020-10-12",
          "2020-10-13",
          "2020-10-14",
          "2020-10-15",
          "2020-10-16",
          "2020-10-17",
          "2020-10-18",
          "2020-10-19",
          "2020-10-20",
          "2020-10-21",
          "2020-10-22",
          "2020-10-23",
          "2020-10-24",
          "2020-10-25",
          "2020-10-26",
          "2020-10-27",
          "2020-10-28",
          "2020-10-29",
          "2020-10-30",
          "2020-10-31",
          "2020-11-01",
          "2020-11-02",
          "2020-11-03",
          "2020-11-04",
          "2020-11-05",
          "2020-11-06",
          "2020-11-07",
          "2020-11-08",
          "2020-11-09",
          "2020-11-10",
          "2020-11-11",
          "2020-11-12",
          "2020-11-13",
          "2020-11-14",
          "2020-11-15",
          "2020-11-16",
          "2020-11-17",
          "2020-11-18",
          "2020-11-19",
          "2020-11-20",
          "2020-11-21",
          "2020-11-22",
          "2020-11-23",
          "2020-11-24",
          "2020-11-25",
          "2020-11-26",
          "2020-11-27",
          "2020-11-28",
          "2020-11-29",
          "2020-11-30",
          "2020-12-01",
          "2020-12-02",
          "2020-12-03",
          "2020-12-04",
          "2020-12-05",
          "2020-12-06",
          "2020-12-07",
          "2020-12-08",
          "2020-12-09",
          "2020-12-10",
          "2020-12-11",
          "2020-12-12",
          "2020-12-13",
          "2020-12-14",
          "2020-12-15",
          "2020-12-16",
          "2020-12-17",
          "2020-12-18",
          "2020-12-19",
          "2020-12-20",
          "2020-12-21",
          "2020-12-22",
          "2020-12-23",
          "2020-12-24",
          "2020-12-25",
          "2020-12-26",
          "2020-12-27",
          "2020-12-28",
          "2020-12-29",
          "2020-12-30",
          "2020-12-31",
          "2021-01-01",
          "2021-01-02",
          "2021-01-03",
          "2021-01-04",
          "2021-01-05",
          "2021-01-06",
          "2021-01-07",
          "2021-01-08",
          "2021-01-09",
          "2021-01-10",
          "2021-01-11",
          "2021-01-12",
          "2021-01-13",
          "2021-01-14",
          "2021-01-15",
          "2021-01-16",
          "2021-01-17",
          "2021-01-18",
          "2021-01-19",
          "2021-01-20",
          "2021-01-21",
          "2021-01-22",
          "2021-01-23",
          "2021-01-24",
          "2021-01-25",
          "2021-01-26",
          "2021-01-27",
          "2021-01-28",
          "2021-01-29",
          "2021-01-30",
          "2021-01-31",
          "2021-02-01",
          "2021-02-02",
          "2021-02-03",
          "2021-02-04",
          "2021-02-05",
          "2021-02-06",
          "2021-02-07",
          "2021-02-08",
          "2021-02-09",
          "2021-02-10",
          "2021-02-11",
          "2021-02-12",
          "2021-02-13",
          "2021-02-14",
          "2021-02-15",
          "2021-02-16",
          "2021-02-17",
          "2021-02-18",
          "2021-02-19",
          "2021-02-20",
          "2021-02-21",
          "2021-02-22",
          "2021-02-23",
          "2021-02-24",
          "2021-02-25",
          "2021-02-26",
          "2021-02-27",
          "2021-02-28",
          "2021-03-01",
          "2021-03-02",
          "2021-03-03",
          "2021-03-04",
          "2021-03-05",
          "2021-03-06",
          "2021-03-07",
          "2021-03-08",
          "2021-03-09",
          "2021-03-10",
          "2021-03-11",
          "2021-03-12",
          "2021-03-13",
          "2021-03-14",
          "2021-03-15",
          "2021-03-16",
          "2021-03-17",
          "2021-03-18",
          "2021-03-19",
          "2021-03-20",
          "2021-03-21",
          "2021-03-22",
          "2021-03-23",
          "2021-03-24",
          "2021-03-25",
          "2021-03-26",
          "2021-03-27",
          "2021-03-28",
          "2021-03-29",
          "2021-03-30",
          "2021-03-31",
          "2021-04-01",
          "2021-04-02",
          "2021-04-03",
          "2021-04-04",
          "2021-04-05",
          "2021-04-06",
          "2021-04-07",
          "2021-04-08",
          "2021-04-09",
          "2021-04-10",
          "2021-04-11",
          "2021-04-12",
          "2021-04-13",
          "2021-04-14",
          "2021-04-15",
          "2021-04-16",
          "2021-04-17",
          "2021-04-18",
          "2021-04-19",
          "2021-04-20",
          "2021-04-21",
          "2021-04-22",
          "2021-04-23",
          "2021-04-24",
          "2021-04-25",
          "2021-04-26",
          "2021-04-27"
         ],
         "y": [
          0.1918,
          0.12928,
          0.14517,
          0.06983,
          0.10571,
          0.01767,
          0.04094,
          0.22329,
          0.16884,
          0.13973,
          0.07577,
          0.07019,
          -0.00814,
          -0.19074,
          -0.06497,
          0.0091,
          0.06192,
          -0.00063,
          -0.16806,
          -0.23629,
          -0.13003,
          -0.17645,
          -0.01232,
          -0.04779,
          -0.12132,
          -0.13251,
          -0.17864,
          -0.27763,
          -0.06447,
          -0.0222,
          -0.03462,
          -0.00597,
          -0.21817,
          -0.21031,
          -0.19743,
          -0.14277,
          -0.0723,
          -0.04378,
          -0.06835,
          -0.18382,
          -0.23252,
          -0.16777,
          -0.40552,
          -0.17406,
          -0.19479,
          -0.13655,
          -0.28125,
          -0.24123,
          -0.07005,
          -0.01256,
          0.00917,
          -0.02254,
          -0.0526,
          -0.03906,
          -0.24663,
          -0.07654,
          0.0289,
          -0.05081,
          -0.07397,
          -0.10472,
          -0.09195,
          -0.06112,
          -0.06881,
          0.0219,
          -0.02179,
          0.07208,
          -0.04232,
          -0.05937,
          -0.0193,
          0.00935,
          0.04674,
          0.03383,
          0.0357,
          0.01207,
          0.01368,
          0.02538,
          -0.04383,
          0.06742,
          0.11259,
          0.0769,
          0.03562,
          -0.01187,
          -0.1012,
          0.07465,
          0.1285,
          0.01734,
          0.0216,
          -0.03315,
          0.12352,
          0.02269,
          0.14679,
          0.12724,
          0.12851,
          0.0418,
          0.06247,
          0.12716,
          0.0526,
          0.16742,
          0.14964,
          0.15892,
          0.06171,
          0.05485,
          0.08267,
          0.1337,
          0.17543,
          0.07651,
          0.17944,
          0.03433,
          0.02199,
          0.16112,
          0.08369,
          0.2091,
          0.10907,
          0.21596,
          0.12899,
          0.10676,
          0.12704,
          0.06288,
          0.09974,
          0.24088,
          0.25216,
          0.09028,
          0.04809,
          0.11196,
          0.10949,
          0.08903,
          0.12183,
          0.20779,
          0.1417,
          0.03734,
          0.09608,
          0.09877,
          0.11763,
          0.24223,
          0.19338,
          0.24595,
          0.14226,
          0.02141,
          0.06374,
          0.10828,
          0.14368,
          0.19674,
          0.12318,
          0.0616,
          0.06179,
          0.08715,
          0.16475,
          0.2261,
          0.19202,
          0.20931,
          0.03486,
          0.07995,
          0.15439,
          0.14937,
          0.28847,
          0.25589,
          0.14904,
          0.0769,
          0.07513,
          0.06262,
          0.11552,
          0.23651,
          0.23677,
          0.21047,
          0.12291,
          0.18339,
          0.10555,
          0.11236,
          0.22102,
          0.33204,
          0.22937,
          0.06387,
          0.04905,
          0.02313,
          0.08739,
          0.06658,
          0.29832,
          0.14033,
          0.03034,
          0.02845,
          0.03122,
          0.06496,
          0.1314,
          0.21811,
          0.10668,
          0.09191,
          0.11687,
          0.10526,
          0.0419,
          0.2431,
          0.11521,
          0.0556,
          -0.06863,
          0.05652,
          -0.06247,
          0.08792,
          0.17013,
          0.19426,
          0.12669,
          0.10204,
          -0.08857,
          0.06262,
          0.06876,
          0.11948,
          0.14655,
          0.21895,
          0.0361,
          0.05613,
          0.05643,
          0.18074,
          0.04294,
          0.23488,
          0.08421,
          -0.00442,
          0.12349,
          0.03183,
          0.04007,
          0.02958,
          0.11182,
          0.13806,
          0.0288,
          -0.00013,
          0.10836,
          0.06147,
          0.11428,
          0.18726,
          0.13627,
          0.00969,
          -0.01561,
          0.01268,
          0.14181,
          0.06537,
          0.13085,
          0.15458,
          0.01613,
          -0.05493,
          -0.04501,
          -0.11927,
          -0.16665,
          -0.05616,
          0.03192,
          -0.04751,
          -0.00887,
          0.03686,
          0.04726,
          0.06542,
          0.09298,
          0.20105,
          0.11589,
          0.05188,
          0.09048,
          -0.12989,
          -0.06924,
          0.05479,
          -0.06722,
          -0.00823,
          -0.10836,
          -0.09097,
          -0.04601,
          -0.17078,
          0.15543,
          0.07077,
          -0.02975,
          -0.0093,
          0.00045,
          0.01886,
          0.08949,
          0.17843,
          0.17101,
          -0.00264,
          -0.33142,
          -0.14861,
          -0.11893,
          -0.09385,
          0.12102,
          0.13977,
          0.05014,
          -0.01144,
          -0.03693,
          -0.05479,
          -0.01856,
          0.10229,
          0.02865,
          0.02374,
          0.005,
          -0.17179,
          -0.12104,
          0.03601,
          0.07826,
          0.00488,
          -0.01918,
          0.04218,
          -0.03831,
          -0.0634,
          0.07506,
          0.16264,
          0.08718,
          -0.26098,
          0.02705,
          -0.42911,
          -0.17779,
          0.02417,
          0.07158,
          -0.24085,
          -0.17847,
          -0.09528,
          -0.26583,
          -0.14281,
          -0.18755,
          0.15696,
          0.0458,
          -0.03694,
          -0.06713,
          -0.08044,
          -0.08978,
          -0.03761,
          0.06977,
          0.00534,
          -0.08768,
          -0.10756,
          -0.12055,
          -0.17132,
          0.01395,
          0.05836,
          0.07364,
          -0.04919,
          0.08746,
          -0.07547,
          -0.133,
          -0.24486,
          -0.3126,
          -0.06968,
          0.09671,
          -0.06915,
          0.00051,
          -0.08456,
          0.06747,
          0.1013,
          0.08454,
          -0.05595,
          -0.12235,
          -0.09404,
          -0.33873,
          -0.19493,
          0.00068,
          -0.00764,
          -0.13856,
          -0.08961,
          -0.15982,
          -0.22579,
          -0.15265,
          -0.27371,
          -0.07414,
          -0.19974,
          -0.13943,
          -0.13855,
          -0.1902,
          -0.13292,
          0.03685,
          0.10807,
          -0.01961,
          -0.00545,
          -0.0253,
          -0.12194,
          0.04078,
          0.15842,
          0.09353,
          0.09797,
          0.06772,
          0.05845,
          -0.04416,
          0.11252,
          0.14861,
          0.19082,
          0.00795,
          0.03686,
          -0.02688,
          -0.03679,
          -0.18218,
          -0.07267,
          0.01618,
          -0.03093,
          0.11398,
          -0.04946,
          0.08834,
          0.11492,
          0.0111,
          -0.01158,
          0.0262,
          0.11435,
          -0.01379,
          0.04824,
          0.21435,
          0.21246,
          0.14808,
          0.16177,
          0.14129,
          0.13921,
          0.06888,
          0.32652,
          0.08284,
          0.23597,
          -0.04023,
          0.12845,
          -0.07987,
          0.07506,
          0.22904,
          0.21781,
          0.16949,
          0.02042,
          -0.03446,
          -0.11903,
          -0.04113,
          0.26486,
          0.12817,
          0.15152,
          0.00944,
          0.03079,
          0.06578,
          0.20079,
          0.29049,
          0.13777,
          0.15363,
          0.05382,
          -0.00254,
          -0.08644,
          -0.00408,
          0.0358,
          0.05295,
          0.037,
          0.05305,
          0.03528,
          0.02102,
          -0.08246,
          0.08716,
          0.03257,
          0.01271,
          -0.03808,
          0.0246,
          -0.0696,
          -0.25477,
          -0.16938,
          -0.19984,
          -0.27906,
          -0.32481,
          -0.17684,
          -0.22531,
          -0.37136,
          -0.35472,
          -0.27836,
          -0.40797,
          -0.35856,
          -0.22534,
          -0.20675,
          -0.30193,
          -0.25734,
          -0.34041,
          -0.25818,
          -0.19028,
          -0.23283,
          -0.12898,
          -0.26183,
          -0.24118,
          -0.13338,
          -0.18992,
          -0.50285,
          -0.35199,
          -0.13886,
          -0.28229,
          -0.15524,
          -0.09481,
          -0.11949,
          -0.10967,
          -0.15885,
          -0.1804,
          -0.20745,
          -0.18619,
          -0.13904,
          -0.08295,
          -0.09276,
          -0.1573,
          -0.16144,
          -0.25982,
          -0.09258,
          -0.02371,
          0.02152,
          0.04965,
          -0.0484,
          -0.1499,
          -0.14009,
          -0.05875,
          -0.06359,
          0.02204,
          -0.05835,
          -0.07099,
          0.08606,
          -0.16323,
          0.0535,
          -0.02533,
          0.12453,
          -0.11253,
          -0.05281,
          -0.04927,
          -0.10412,
          -0.0461,
          -0.04516,
          0.15,
          0.12755,
          -0.09097,
          -0.09934,
          -0.10409,
          -0.16252,
          -0.03025,
          0.05596,
          0.24702,
          -0.02614,
          -0.12397,
          -0.03751,
          -0.02366,
          -0.0303,
          0.06481,
          0.20483,
          -0.04757,
          0.00965,
          -0.09484,
          -0.04068,
          0.09296,
          0.13486,
          0.22657,
          0.1318,
          0.04634,
          -0.0039,
          0.035,
          -0.01376,
          0.03922,
          0.25893,
          -0.11557,
          0.02799,
          -0.06775,
          -0.01397,
          -0.07464,
          0.03206,
          0.17944,
          -0.04523,
          -0.01136,
          -0.07797,
          0.07394,
          0.04773,
          -0.03619,
          0.20435,
          0.05068,
          0.01107,
          -0.14185,
          -0.09889,
          -0.00537,
          0.04955,
          0.04811,
          0.05706,
          -0.09602,
          -0.03373,
          -0.01556,
          0.02566,
          0.12078,
          0.12873,
          -0.01917,
          -0.04167,
          -0.01112,
          -0.06525,
          0.08363,
          0.1044,
          0.00298,
          -0.006,
          0.00925,
          -0.13983,
          -0.06574,
          0.0953,
          0.19742,
          0.16364,
          0.04423,
          0.02184,
          -0.05601,
          -0.04481,
          0.04897,
          0.03577,
          -0.00131,
          0.04887,
          0.02395,
          0.04241,
          -0.0612,
          -0.02525,
          0.0311,
          0.20822,
          0.11039,
          0.04059,
          0.14023,
          -0.03541,
          -0.03602,
          0.09942,
          0.0977,
          0.05496,
          -0.00329,
          -0.06979,
          -0.02433,
          -0.03242,
          0.11515,
          0.11268,
          -0.03908,
          -0.09702,
          -0.08504,
          -0.06733,
          0.09126,
          0.0606,
          0.10679,
          -0.12775,
          -0.07646,
          -0.13749,
          -0.05021,
          0.06699,
          -0.07681,
          0.19156,
          0.02146,
          -0.02004,
          0.00541,
          0.00739,
          -0.05895,
          -0.0274,
          0.06316,
          -0.0393,
          -0.03197,
          -0.02536,
          -0.06534,
          -0.00259,
          -0.01104,
          0.14644,
          -0.00358,
          0.07722,
          -0.09626,
          -0.05893,
          0.0524,
          0.05573,
          0.0138,
          -0.00032,
          -0.01241,
          0.00133,
          0.02929,
          -0.04298,
          0.11512,
          0.27346,
          0.05743,
          0.03512,
          -0.06494,
          0.00674,
          -0.06891,
          0.01821,
          -0.033,
          -0.05004,
          -0.07486,
          -0.2591,
          -0.0937,
          -0.06308,
          -0.03025,
          -0.03469,
          -0.02375,
          -0.06798,
          -0.13034,
          0.05674,
          -0.02299,
          -0.11154,
          -0.05381,
          -0.09147,
          -0.02851,
          -0.01615,
          -0.00897,
          -0.04967,
          -0.02925,
          0.04002,
          -0.05643,
          -0.074,
          -0.18449,
          -0.14977,
          -0.18291,
          -0.07554,
          -0.01877,
          -0.0627,
          -0.04979,
          -0.16261,
          -0.05134,
          -0.07474,
          -0.29063,
          -0.20874,
          -0.11169,
          -0.11766,
          -0.01551,
          -0.46248,
          -0.18292,
          -0.21033,
          -0.06515,
          -0.06886,
          0.04964,
          -0.11301,
          -0.12802,
          -0.12615,
          -0.14767,
          -0.06443,
          -0.09517,
          -0.12651,
          -0.04519,
          -0.06411,
          -0.14768,
          -0.09989,
          -0.02894,
          0.02003,
          -0.05318,
          -0.11575,
          0.02238,
          -0.07789,
          -0.04699,
          -0.08973,
          -0.02642,
          0.15475,
          0.02051,
          -0.22874,
          -0.51761,
          -0.21913,
          -0.29843,
          -0.02863,
          0.03508,
          -0.28566,
          -0.14192,
          -0.11792,
          -0.11717,
          -0.14561
         ]
        }
       ],
       "layout": {
        "showlegend": false,
        "template": {
         "data": {
          "bar": [
           {
            "error_x": {
             "color": "#2a3f5f"
            },
            "error_y": {
             "color": "#2a3f5f"
            },
            "marker": {
             "line": {
              "color": "#E5ECF6",
              "width": 0.5
             },
             "pattern": {
              "fillmode": "overlay",
              "size": 10,
              "solidity": 0.2
             }
            },
            "type": "bar"
           }
          ],
          "barpolar": [
           {
            "marker": {
             "line": {
              "color": "#E5ECF6",
              "width": 0.5
             },
             "pattern": {
              "fillmode": "overlay",
              "size": 10,
              "solidity": 0.2
             }
            },
            "type": "barpolar"
           }
          ],
          "carpet": [
           {
            "aaxis": {
             "endlinecolor": "#2a3f5f",
             "gridcolor": "white",
             "linecolor": "white",
             "minorgridcolor": "white",
             "startlinecolor": "#2a3f5f"
            },
            "baxis": {
             "endlinecolor": "#2a3f5f",
             "gridcolor": "white",
             "linecolor": "white",
             "minorgridcolor": "white",
             "startlinecolor": "#2a3f5f"
            },
            "type": "carpet"
           }
          ],
          "choropleth": [
           {
            "colorbar": {
             "outlinewidth": 0,
             "ticks": ""
            },
            "type": "choropleth"
           }
          ],
          "contour": [
           {
            "colorbar": {
             "outlinewidth": 0,
             "ticks": ""
            },
            "colorscale": [
             [
              0,
              "#0d0887"
             ],
             [
              0.1111111111111111,
              "#46039f"
             ],
             [
              0.2222222222222222,
              "#7201a8"
             ],
             [
              0.3333333333333333,
              "#9c179e"
             ],
             [
              0.4444444444444444,
              "#bd3786"
             ],
             [
              0.5555555555555556,
              "#d8576b"
             ],
             [
              0.6666666666666666,
              "#ed7953"
             ],
             [
              0.7777777777777778,
              "#fb9f3a"
             ],
             [
              0.8888888888888888,
              "#fdca26"
             ],
             [
              1,
              "#f0f921"
             ]
            ],
            "type": "contour"
           }
          ],
          "contourcarpet": [
           {
            "colorbar": {
             "outlinewidth": 0,
             "ticks": ""
            },
            "type": "contourcarpet"
           }
          ],
          "heatmap": [
           {
            "colorbar": {
             "outlinewidth": 0,
             "ticks": ""
            },
            "colorscale": [
             [
              0,
              "#0d0887"
             ],
             [
              0.1111111111111111,
              "#46039f"
             ],
             [
              0.2222222222222222,
              "#7201a8"
             ],
             [
              0.3333333333333333,
              "#9c179e"
             ],
             [
              0.4444444444444444,
              "#bd3786"
             ],
             [
              0.5555555555555556,
              "#d8576b"
             ],
             [
              0.6666666666666666,
              "#ed7953"
             ],
             [
              0.7777777777777778,
              "#fb9f3a"
             ],
             [
              0.8888888888888888,
              "#fdca26"
             ],
             [
              1,
              "#f0f921"
             ]
            ],
            "type": "heatmap"
           }
          ],
          "heatmapgl": [
           {
            "colorbar": {
             "outlinewidth": 0,
             "ticks": ""
            },
            "colorscale": [
             [
              0,
              "#0d0887"
             ],
             [
              0.1111111111111111,
              "#46039f"
             ],
             [
              0.2222222222222222,
              "#7201a8"
             ],
             [
              0.3333333333333333,
              "#9c179e"
             ],
             [
              0.4444444444444444,
              "#bd3786"
             ],
             [
              0.5555555555555556,
              "#d8576b"
             ],
             [
              0.6666666666666666,
              "#ed7953"
             ],
             [
              0.7777777777777778,
              "#fb9f3a"
             ],
             [
              0.8888888888888888,
              "#fdca26"
             ],
             [
              1,
              "#f0f921"
             ]
            ],
            "type": "heatmapgl"
           }
          ],
          "histogram": [
           {
            "marker": {
             "pattern": {
              "fillmode": "overlay",
              "size": 10,
              "solidity": 0.2
             }
            },
            "type": "histogram"
           }
          ],
          "histogram2d": [
           {
            "colorbar": {
             "outlinewidth": 0,
             "ticks": ""
            },
            "colorscale": [
             [
              0,
              "#0d0887"
             ],
             [
              0.1111111111111111,
              "#46039f"
             ],
             [
              0.2222222222222222,
              "#7201a8"
             ],
             [
              0.3333333333333333,
              "#9c179e"
             ],
             [
              0.4444444444444444,
              "#bd3786"
             ],
             [
              0.5555555555555556,
              "#d8576b"
             ],
             [
              0.6666666666666666,
              "#ed7953"
             ],
             [
              0.7777777777777778,
              "#fb9f3a"
             ],
             [
              0.8888888888888888,
              "#fdca26"
             ],
             [
              1,
              "#f0f921"
             ]
            ],
            "type": "histogram2d"
           }
          ],
          "histogram2dcontour": [
           {
            "colorbar": {
             "outlinewidth": 0,
             "ticks": ""
            },
            "colorscale": [
             [
              0,
              "#0d0887"
             ],
             [
              0.1111111111111111,
              "#46039f"
             ],
             [
              0.2222222222222222,
              "#7201a8"
             ],
             [
              0.3333333333333333,
              "#9c179e"
             ],
             [
              0.4444444444444444,
              "#bd3786"
             ],
             [
              0.5555555555555556,
              "#d8576b"
             ],
             [
              0.6666666666666666,
              "#ed7953"
             ],
             [
              0.7777777777777778,
              "#fb9f3a"
             ],
             [
              0.8888888888888888,
              "#fdca26"
             ],
             [
              1,
              "#f0f921"
             ]
            ],
            "type": "histogram2dcontour"
           }
          ],
          "mesh3d": [
           {
            "colorbar": {
             "outlinewidth": 0,
             "ticks": ""
            },
            "type": "mesh3d"
           }
          ],
          "parcoords": [
           {
            "line": {
             "colorbar": {
              "outlinewidth": 0,
              "ticks": ""
             }
            },
            "type": "parcoords"
           }
          ],
          "pie": [
           {
            "automargin": true,
            "type": "pie"
           }
          ],
          "scatter": [
           {
            "marker": {
             "colorbar": {
              "outlinewidth": 0,
              "ticks": ""
             }
            },
            "type": "scatter"
           }
          ],
          "scatter3d": [
           {
            "line": {
             "colorbar": {
              "outlinewidth": 0,
              "ticks": ""
             }
            },
            "marker": {
             "colorbar": {
              "outlinewidth": 0,
              "ticks": ""
             }
            },
            "type": "scatter3d"
           }
          ],
          "scattercarpet": [
           {
            "marker": {
             "colorbar": {
              "outlinewidth": 0,
              "ticks": ""
             }
            },
            "type": "scattercarpet"
           }
          ],
          "scattergeo": [
           {
            "marker": {
             "colorbar": {
              "outlinewidth": 0,
              "ticks": ""
             }
            },
            "type": "scattergeo"
           }
          ],
          "scattergl": [
           {
            "marker": {
             "colorbar": {
              "outlinewidth": 0,
              "ticks": ""
             }
            },
            "type": "scattergl"
           }
          ],
          "scattermapbox": [
           {
            "marker": {
             "colorbar": {
              "outlinewidth": 0,
              "ticks": ""
             }
            },
            "type": "scattermapbox"
           }
          ],
          "scatterpolar": [
           {
            "marker": {
             "colorbar": {
              "outlinewidth": 0,
              "ticks": ""
             }
            },
            "type": "scatterpolar"
           }
          ],
          "scatterpolargl": [
           {
            "marker": {
             "colorbar": {
              "outlinewidth": 0,
              "ticks": ""
             }
            },
            "type": "scatterpolargl"
           }
          ],
          "scatterternary": [
           {
            "marker": {
             "colorbar": {
              "outlinewidth": 0,
              "ticks": ""
             }
            },
            "type": "scatterternary"
           }
          ],
          "surface": [
           {
            "colorbar": {
             "outlinewidth": 0,
             "ticks": ""
            },
            "colorscale": [
             [
              0,
              "#0d0887"
             ],
             [
              0.1111111111111111,
              "#46039f"
             ],
             [
              0.2222222222222222,
              "#7201a8"
             ],
             [
              0.3333333333333333,
              "#9c179e"
             ],
             [
              0.4444444444444444,
              "#bd3786"
             ],
             [
              0.5555555555555556,
              "#d8576b"
             ],
             [
              0.6666666666666666,
              "#ed7953"
             ],
             [
              0.7777777777777778,
              "#fb9f3a"
             ],
             [
              0.8888888888888888,
              "#fdca26"
             ],
             [
              1,
              "#f0f921"
             ]
            ],
            "type": "surface"
           }
          ],
          "table": [
           {
            "cells": {
             "fill": {
              "color": "#EBF0F8"
             },
             "line": {
              "color": "white"
             }
            },
            "header": {
             "fill": {
              "color": "#C8D4E3"
             },
             "line": {
              "color": "white"
             }
            },
            "type": "table"
           }
          ]
         },
         "layout": {
          "annotationdefaults": {
           "arrowcolor": "#2a3f5f",
           "arrowhead": 0,
           "arrowwidth": 1
          },
          "autotypenumbers": "strict",
          "coloraxis": {
           "colorbar": {
            "outlinewidth": 0,
            "ticks": ""
           }
          },
          "colorscale": {
           "diverging": [
            [
             0,
             "#8e0152"
            ],
            [
             0.1,
             "#c51b7d"
            ],
            [
             0.2,
             "#de77ae"
            ],
            [
             0.3,
             "#f1b6da"
            ],
            [
             0.4,
             "#fde0ef"
            ],
            [
             0.5,
             "#f7f7f7"
            ],
            [
             0.6,
             "#e6f5d0"
            ],
            [
             0.7,
             "#b8e186"
            ],
            [
             0.8,
             "#7fbc41"
            ],
            [
             0.9,
             "#4d9221"
            ],
            [
             1,
             "#276419"
            ]
           ],
           "sequential": [
            [
             0,
             "#0d0887"
            ],
            [
             0.1111111111111111,
             "#46039f"
            ],
            [
             0.2222222222222222,
             "#7201a8"
            ],
            [
             0.3333333333333333,
             "#9c179e"
            ],
            [
             0.4444444444444444,
             "#bd3786"
            ],
            [
             0.5555555555555556,
             "#d8576b"
            ],
            [
             0.6666666666666666,
             "#ed7953"
            ],
            [
             0.7777777777777778,
             "#fb9f3a"
            ],
            [
             0.8888888888888888,
             "#fdca26"
            ],
            [
             1,
             "#f0f921"
            ]
           ],
           "sequentialminus": [
            [
             0,
             "#0d0887"
            ],
            [
             0.1111111111111111,
             "#46039f"
            ],
            [
             0.2222222222222222,
             "#7201a8"
            ],
            [
             0.3333333333333333,
             "#9c179e"
            ],
            [
             0.4444444444444444,
             "#bd3786"
            ],
            [
             0.5555555555555556,
             "#d8576b"
            ],
            [
             0.6666666666666666,
             "#ed7953"
            ],
            [
             0.7777777777777778,
             "#fb9f3a"
            ],
            [
             0.8888888888888888,
             "#fdca26"
            ],
            [
             1,
             "#f0f921"
            ]
           ]
          },
          "colorway": [
           "#636efa",
           "#EF553B",
           "#00cc96",
           "#ab63fa",
           "#FFA15A",
           "#19d3f3",
           "#FF6692",
           "#B6E880",
           "#FF97FF",
           "#FECB52"
          ],
          "font": {
           "color": "#2a3f5f"
          },
          "geo": {
           "bgcolor": "white",
           "lakecolor": "white",
           "landcolor": "#E5ECF6",
           "showlakes": true,
           "showland": true,
           "subunitcolor": "white"
          },
          "hoverlabel": {
           "align": "left"
          },
          "hovermode": "closest",
          "mapbox": {
           "style": "light"
          },
          "paper_bgcolor": "white",
          "plot_bgcolor": "#E5ECF6",
          "polar": {
           "angularaxis": {
            "gridcolor": "white",
            "linecolor": "white",
            "ticks": ""
           },
           "bgcolor": "#E5ECF6",
           "radialaxis": {
            "gridcolor": "white",
            "linecolor": "white",
            "ticks": ""
           }
          },
          "scene": {
           "xaxis": {
            "backgroundcolor": "#E5ECF6",
            "gridcolor": "white",
            "gridwidth": 2,
            "linecolor": "white",
            "showbackground": true,
            "ticks": "",
            "zerolinecolor": "white"
           },
           "yaxis": {
            "backgroundcolor": "#E5ECF6",
            "gridcolor": "white",
            "gridwidth": 2,
            "linecolor": "white",
            "showbackground": true,
            "ticks": "",
            "zerolinecolor": "white"
           },
           "zaxis": {
            "backgroundcolor": "#E5ECF6",
            "gridcolor": "white",
            "gridwidth": 2,
            "linecolor": "white",
            "showbackground": true,
            "ticks": "",
            "zerolinecolor": "white"
           }
          },
          "shapedefaults": {
           "line": {
            "color": "#2a3f5f"
           }
          },
          "ternary": {
           "aaxis": {
            "gridcolor": "white",
            "linecolor": "white",
            "ticks": ""
           },
           "baxis": {
            "gridcolor": "white",
            "linecolor": "white",
            "ticks": ""
           },
           "bgcolor": "#E5ECF6",
           "caxis": {
            "gridcolor": "white",
            "linecolor": "white",
            "ticks": ""
           }
          },
          "title": {
           "x": 0.05
          },
          "xaxis": {
           "automargin": true,
           "gridcolor": "white",
           "linecolor": "white",
           "ticks": "",
           "title": {
            "standoff": 15
           },
           "zerolinecolor": "white",
           "zerolinewidth": 2
          },
          "yaxis": {
           "automargin": true,
           "gridcolor": "white",
           "linecolor": "white",
           "ticks": "",
           "title": {
            "standoff": 15
           },
           "zerolinecolor": "white",
           "zerolinewidth": 2
          }
         }
        },
        "title": {
         "text": "Relative Change on Movement"
        },
        "xaxis": {
         "title": {
          "text": "Months"
         }
        },
        "yaxis": {
         "title": {
          "text": ""
         }
        }
       }
      }
     },
     "metadata": {}
    },
    {
     "output_type": "display_data",
     "data": {
      "application/vnd.plotly.v1+json": {
       "config": {
        "plotlyServerURL": "https://plot.ly"
       },
       "data": [
        {
         "marker": {
          "color": "indianred"
         },
         "text": "counts",
         "type": "scatter",
         "x": [
          "2020-03-01",
          "2020-03-02",
          "2020-03-03",
          "2020-03-04",
          "2020-03-05",
          "2020-03-06",
          "2020-03-07",
          "2020-03-08",
          "2020-03-09",
          "2020-03-10",
          "2020-03-11",
          "2020-03-12",
          "2020-03-13",
          "2020-03-14",
          "2020-03-15",
          "2020-03-16",
          "2020-03-17",
          "2020-03-18",
          "2020-03-19",
          "2020-03-20",
          "2020-03-21",
          "2020-03-22",
          "2020-03-23",
          "2020-03-24",
          "2020-03-25",
          "2020-03-26",
          "2020-03-27",
          "2020-03-28",
          "2020-03-29",
          "2020-03-30",
          "2020-03-31",
          "2020-04-01",
          "2020-04-02",
          "2020-04-03",
          "2020-04-04",
          "2020-04-05",
          "2020-04-06",
          "2020-04-07",
          "2020-04-08",
          "2020-04-09",
          "2020-04-10",
          "2020-04-11",
          "2020-04-12",
          "2020-04-13",
          "2020-04-14",
          "2020-04-15",
          "2020-04-16",
          "2020-04-17",
          "2020-04-18",
          "2020-04-19",
          "2020-04-20",
          "2020-04-21",
          "2020-04-22",
          "2020-04-23",
          "2020-04-24",
          "2020-04-25",
          "2020-04-26",
          "2020-04-27",
          "2020-04-28",
          "2020-04-29",
          "2020-04-30",
          "2020-05-01",
          "2020-05-02",
          "2020-05-03",
          "2020-05-04",
          "2020-05-05",
          "2020-05-06",
          "2020-05-07",
          "2020-05-08",
          "2020-05-09",
          "2020-05-10",
          "2020-05-11",
          "2020-05-12",
          "2020-05-13",
          "2020-05-14",
          "2020-05-15",
          "2020-05-16",
          "2020-05-17",
          "2020-05-18",
          "2020-05-19",
          "2020-05-20",
          "2020-05-21",
          "2020-05-22",
          "2020-05-23",
          "2020-05-24",
          "2020-05-25",
          "2020-05-26",
          "2020-05-27",
          "2020-05-28",
          "2020-05-29",
          "2020-05-30",
          "2020-05-31",
          "2020-06-01",
          "2020-06-02",
          "2020-06-03",
          "2020-06-04",
          "2020-06-05",
          "2020-06-06",
          "2020-06-07",
          "2020-06-08",
          "2020-06-09",
          "2020-06-10",
          "2020-06-11",
          "2020-06-12",
          "2020-06-13",
          "2020-06-14",
          "2020-06-15",
          "2020-06-16",
          "2020-06-17",
          "2020-06-18",
          "2020-06-19",
          "2020-06-20",
          "2020-06-21",
          "2020-06-22",
          "2020-06-23",
          "2020-06-24",
          "2020-06-25",
          "2020-06-26",
          "2020-06-27",
          "2020-06-28",
          "2020-06-29",
          "2020-06-30",
          "2020-07-01",
          "2020-07-02",
          "2020-07-03",
          "2020-07-04",
          "2020-07-05",
          "2020-07-06",
          "2020-07-07",
          "2020-07-08",
          "2020-07-09",
          "2020-07-10",
          "2020-07-11",
          "2020-07-12",
          "2020-07-13",
          "2020-07-14",
          "2020-07-15",
          "2020-07-16",
          "2020-07-17",
          "2020-07-18",
          "2020-07-19",
          "2020-07-20",
          "2020-07-21",
          "2020-07-22",
          "2020-07-23",
          "2020-07-24",
          "2020-07-25",
          "2020-07-26",
          "2020-07-27",
          "2020-07-28",
          "2020-07-29",
          "2020-07-30",
          "2020-07-31",
          "2020-08-01",
          "2020-08-02",
          "2020-08-03",
          "2020-08-04",
          "2020-08-05",
          "2020-08-06",
          "2020-08-07",
          "2020-08-08",
          "2020-08-09",
          "2020-08-10",
          "2020-08-11",
          "2020-08-12",
          "2020-08-13",
          "2020-08-14",
          "2020-08-15",
          "2020-08-16",
          "2020-08-17",
          "2020-08-18",
          "2020-08-19",
          "2020-08-20",
          "2020-08-21",
          "2020-08-22",
          "2020-08-23",
          "2020-08-24",
          "2020-08-25",
          "2020-08-26",
          "2020-08-27",
          "2020-08-28",
          "2020-08-29",
          "2020-08-30",
          "2020-08-31",
          "2020-09-01",
          "2020-09-02",
          "2020-09-03",
          "2020-09-04",
          "2020-09-05",
          "2020-09-06",
          "2020-09-07",
          "2020-09-08",
          "2020-09-09",
          "2020-09-10",
          "2020-09-11",
          "2020-09-12",
          "2020-09-13",
          "2020-09-14",
          "2020-09-15",
          "2020-09-16",
          "2020-09-17",
          "2020-09-18",
          "2020-09-19",
          "2020-09-20",
          "2020-09-21",
          "2020-09-22",
          "2020-09-23",
          "2020-09-24",
          "2020-09-25",
          "2020-09-26",
          "2020-09-27",
          "2020-09-28",
          "2020-09-29",
          "2020-09-30",
          "2020-10-01",
          "2020-10-02",
          "2020-10-03",
          "2020-10-04",
          "2020-10-05",
          "2020-10-06",
          "2020-10-07",
          "2020-10-08",
          "2020-10-09",
          "2020-10-10",
          "2020-10-11",
          "2020-10-12",
          "2020-10-13",
          "2020-10-14",
          "2020-10-15",
          "2020-10-16",
          "2020-10-17",
          "2020-10-18",
          "2020-10-19",
          "2020-10-20",
          "2020-10-21",
          "2020-10-22",
          "2020-10-23",
          "2020-10-24",
          "2020-10-25",
          "2020-10-26",
          "2020-10-27",
          "2020-10-28",
          "2020-10-29",
          "2020-10-30",
          "2020-10-31",
          "2020-11-01",
          "2020-11-02",
          "2020-11-03",
          "2020-11-04",
          "2020-11-05",
          "2020-11-06",
          "2020-11-07",
          "2020-11-08",
          "2020-11-09",
          "2020-11-10",
          "2020-11-11",
          "2020-11-12",
          "2020-11-13",
          "2020-11-14",
          "2020-11-15",
          "2020-11-16",
          "2020-11-17",
          "2020-11-18",
          "2020-11-19",
          "2020-11-20",
          "2020-11-21",
          "2020-11-22",
          "2020-11-23",
          "2020-11-24",
          "2020-11-25",
          "2020-11-26",
          "2020-11-27",
          "2020-11-28",
          "2020-11-29",
          "2020-11-30",
          "2020-12-01",
          "2020-12-02",
          "2020-12-03",
          "2020-12-04",
          "2020-12-05",
          "2020-12-06",
          "2020-12-07",
          "2020-12-08",
          "2020-12-09",
          "2020-12-10",
          "2020-12-11",
          "2020-12-12",
          "2020-12-13",
          "2020-12-14",
          "2020-12-15",
          "2020-12-16",
          "2020-12-17",
          "2020-12-18",
          "2020-12-19",
          "2020-12-20",
          "2020-12-21",
          "2020-12-22",
          "2020-12-23",
          "2020-12-24",
          "2020-12-25",
          "2020-12-26",
          "2020-12-27",
          "2020-12-28",
          "2020-12-29",
          "2020-12-30",
          "2020-12-31",
          "2021-01-01",
          "2021-01-02",
          "2021-01-03",
          "2021-01-04",
          "2021-01-05",
          "2021-01-06",
          "2021-01-07",
          "2021-01-08",
          "2021-01-09",
          "2021-01-10",
          "2021-01-11",
          "2021-01-12",
          "2021-01-13",
          "2021-01-14",
          "2021-01-15",
          "2021-01-16",
          "2021-01-17",
          "2021-01-18",
          "2021-01-19",
          "2021-01-20",
          "2021-01-21",
          "2021-01-22",
          "2021-01-23",
          "2021-01-24",
          "2021-01-25",
          "2021-01-26",
          "2021-01-27",
          "2021-01-28",
          "2021-01-29",
          "2021-01-30",
          "2021-01-31",
          "2021-02-01",
          "2021-02-02",
          "2021-02-03",
          "2021-02-04",
          "2021-02-05",
          "2021-02-06",
          "2021-02-07",
          "2021-02-08",
          "2021-02-09",
          "2021-02-10",
          "2021-02-11",
          "2021-02-12",
          "2021-02-13",
          "2021-02-14",
          "2021-02-15",
          "2021-02-16",
          "2021-02-17",
          "2021-02-18",
          "2021-02-19",
          "2021-02-20",
          "2021-02-21",
          "2021-02-22",
          "2021-02-23",
          "2021-02-24",
          "2021-02-25",
          "2021-02-26",
          "2021-02-27",
          "2021-02-28",
          "2021-03-01",
          "2021-03-02",
          "2021-03-03",
          "2021-03-04",
          "2021-03-05",
          "2021-03-06",
          "2021-03-07",
          "2021-03-08",
          "2021-03-09",
          "2021-03-10",
          "2021-03-11",
          "2021-03-12",
          "2021-03-13",
          "2021-03-14",
          "2021-03-15",
          "2021-03-16",
          "2021-03-17",
          "2021-03-18",
          "2021-03-19",
          "2021-03-20",
          "2021-03-21",
          "2021-03-22",
          "2021-03-23",
          "2021-03-24",
          "2021-03-25",
          "2021-03-26",
          "2021-03-27",
          "2021-03-28",
          "2021-03-29",
          "2021-03-30",
          "2021-03-31",
          "2021-04-01",
          "2021-04-02",
          "2021-04-03",
          "2021-04-04",
          "2021-04-05",
          "2021-04-06",
          "2021-04-07",
          "2021-04-08",
          "2021-04-09",
          "2021-04-10",
          "2021-04-11",
          "2021-04-12",
          "2021-04-13",
          "2021-04-14",
          "2021-04-15",
          "2021-04-16",
          "2021-04-17",
          "2021-04-18",
          "2021-04-19",
          "2021-04-20",
          "2021-04-21",
          "2021-04-22",
          "2021-04-23",
          "2021-04-24",
          "2021-04-25",
          "2021-04-26",
          "2021-04-27"
         ],
         "y": [
          0.15118,
          0.11499,
          0.09807,
          0.10359,
          0.09614,
          0.09137,
          0.1296,
          0.15668,
          0.11537,
          0.09603,
          0.0934,
          0.10023,
          0.11393,
          0.20735,
          0.20938,
          0.13746,
          0.14779,
          0.16355,
          0.17008,
          0.17622,
          0.23586,
          0.29141,
          0.19142,
          0.17091,
          0.17834,
          0.18527,
          0.18416,
          0.26227,
          0.23963,
          0.17911,
          0.1692,
          0.15988,
          0.21229,
          0.19533,
          0.23518,
          0.27961,
          0.18261,
          0.16808,
          0.18407,
          0.19061,
          0.20436,
          0.22896,
          0.33786,
          0.21202,
          0.21677,
          0.18926,
          0.25153,
          0.2004,
          0.19101,
          0.24222,
          0.19564,
          0.1729,
          0.17115,
          0.15963,
          0.19108,
          0.21932,
          0.24543,
          0.17269,
          0.19576,
          0.17282,
          0.15012,
          0.14309,
          0.19404,
          0.22813,
          0.18989,
          0.17313,
          0.16217,
          0.16533,
          0.15487,
          0.21339,
          0.21262,
          0.17799,
          0.17008,
          0.16307,
          0.14464,
          0.13361,
          0.18144,
          0.22285,
          0.15135,
          0.1454,
          0.14232,
          0.18772,
          0.18732,
          0.16455,
          0.21301,
          0.24321,
          0.15317,
          0.15417,
          0.14533,
          0.13568,
          0.17457,
          0.19835,
          0.13906,
          0.14053,
          0.1411,
          0.13002,
          0.12247,
          0.158,
          0.20303,
          0.15561,
          0.1492,
          0.13418,
          0.12918,
          0.12107,
          0.15917,
          0.18956,
          0.14087,
          0.13211,
          0.13332,
          0.12615,
          0.1246,
          0.15535,
          0.18011,
          0.13859,
          0.14513,
          0.12544,
          0.1215,
          0.11629,
          0.14852,
          0.17677,
          0.15471,
          0.12426,
          0.128,
          0.12038,
          0.1234,
          0.15403,
          0.19185,
          0.15427,
          0.13588,
          0.13728,
          0.12956,
          0.11296,
          0.16128,
          0.17467,
          0.12337,
          0.12947,
          0.12142,
          0.11766,
          0.12587,
          0.14758,
          0.19366,
          0.13305,
          0.13689,
          0.12192,
          0.13067,
          0.11186,
          0.14692,
          0.17875,
          0.14145,
          0.12075,
          0.13415,
          0.13214,
          0.11425,
          0.15759,
          0.16739,
          0.13071,
          0.12199,
          0.12208,
          0.12004,
          0.12671,
          0.15369,
          0.17687,
          0.12813,
          0.12405,
          0.12027,
          0.12093,
          0.12563,
          0.14115,
          0.18846,
          0.12407,
          0.11622,
          0.14344,
          0.12463,
          0.11436,
          0.17706,
          0.19618,
          0.13183,
          0.11964,
          0.12091,
          0.11967,
          0.1048,
          0.1529,
          0.19532,
          0.11767,
          0.11993,
          0.11206,
          0.11065,
          0.09303,
          0.1629,
          0.1817,
          0.18951,
          0.129,
          0.12365,
          0.117,
          0.12889,
          0.14122,
          0.15619,
          0.13171,
          0.11004,
          0.10504,
          0.10595,
          0.09826,
          0.14885,
          0.16583,
          0.11937,
          0.10338,
          0.11267,
          0.12121,
          0.12039,
          0.15231,
          0.19436,
          0.10555,
          0.12657,
          0.12256,
          0.10848,
          0.10965,
          0.16241,
          0.20374,
          0.13118,
          0.12667,
          0.1206,
          0.13187,
          0.11819,
          0.16434,
          0.19955,
          0.13836,
          0.1288,
          0.12495,
          0.13906,
          0.13074,
          0.15938,
          0.2196,
          0.13255,
          0.13811,
          0.13704,
          0.15475,
          0.1381,
          0.21052,
          0.2588,
          0.18797,
          0.15497,
          0.13425,
          0.1255,
          0.11858,
          0.14229,
          0.18368,
          0.13481,
          0.1173,
          0.13362,
          0.13211,
          0.12486,
          0.166,
          0.22165,
          0.15323,
          0.18495,
          0.16255,
          0.1281,
          0.16364,
          0.19495,
          0.2153,
          0.13114,
          0.14154,
          0.13444,
          0.1225,
          0.11734,
          0.19414,
          0.21971,
          0.15416,
          0.15163,
          0.13876,
          0.26313,
          0.19008,
          0.22972,
          0.26973,
          0.14826,
          0.12477,
          0.15405,
          0.13416,
          0.12114,
          0.17804,
          0.19682,
          0.14749,
          0.14324,
          0.12348,
          0.13814,
          0.1642,
          0.21685,
          0.25217,
          0.14327,
          0.16411,
          0.1375,
          0.13075,
          0.12924,
          0.19747,
          0.22341,
          0.13403,
          0.12957,
          0.21568,
          0.1579,
          0.30386,
          0.19926,
          0.22746,
          0.15045,
          0.28563,
          0.17434,
          0.14561,
          0.21975,
          0.22416,
          0.25851,
          0.13707,
          0.14293,
          0.1454,
          0.14802,
          0.14696,
          0.18177,
          0.20983,
          0.13756,
          0.12601,
          0.13798,
          0.15694,
          0.13154,
          0.17481,
          0.21637,
          0.16211,
          0.12632,
          0.12128,
          0.13312,
          0.12935,
          0.19936,
          0.25284,
          0.3079,
          0.22929,
          0.13986,
          0.13689,
          0.12378,
          0.2107,
          0.23629,
          0.12974,
          0.15243,
          0.11315,
          0.12022,
          0.12722,
          0.25881,
          0.34404,
          0.17691,
          0.13858,
          0.14767,
          0.13096,
          0.14861,
          0.20825,
          0.27534,
          0.20915,
          0.19039,
          0.18021,
          0.13672,
          0.14056,
          0.17334,
          0.21275,
          0.14407,
          0.12223,
          0.11884,
          0.13034,
          0.11721,
          0.16405,
          0.22772,
          0.12799,
          0.11595,
          0.11304,
          0.11173,
          0.10563,
          0.15731,
          0.18864,
          0.12986,
          0.11301,
          0.14008,
          0.12232,
          0.10066,
          0.1788,
          0.26111,
          0.14613,
          0.11918,
          0.12896,
          0.1029,
          0.111,
          0.1423,
          0.15878,
          0.12111,
          0.13185,
          0.11586,
          0.09805,
          0.11531,
          0.14267,
          0.15002,
          0.12331,
          0.12277,
          0.11797,
          0.11369,
          0.10043,
          0.12991,
          0.16363,
          0.12056,
          0.09811,
          0.1184,
          0.11192,
          0.10404,
          0.1302,
          0.1633,
          0.10258,
          0.10986,
          0.11632,
          0.1186,
          0.13324,
          0.16391,
          0.16152,
          0.14713,
          0.12194,
          0.10155,
          0.11729,
          0.10047,
          0.1324,
          0.1645,
          0.10313,
          0.11116,
          0.20691,
          0.14408,
          0.14218,
          0.11828,
          0.14036,
          0.10581,
          0.15976,
          0.23362,
          0.13325,
          0.13277,
          0.15347,
          0.14859,
          0.12177,
          0.16549,
          0.25375,
          0.18399,
          0.16317,
          0.20633,
          0.21296,
          0.19907,
          0.29991,
          0.35423,
          0.23594,
          0.26018,
          0.25659,
          0.26865,
          0.22081,
          0.34299,
          0.41577,
          0.23292,
          0.24851,
          0.24976,
          0.24225,
          0.25953,
          0.28692,
          0.27736,
          0.22515,
          0.22358,
          0.22747,
          0.26998,
          0.19868,
          0.23846,
          0.42192,
          0.29274,
          0.28595,
          0.28663,
          0.24458,
          0.21272,
          0.23624,
          0.31793,
          0.2515,
          0.21955,
          0.22703,
          0.22749,
          0.1902,
          0.21309,
          0.27059,
          0.21879,
          0.25408,
          0.21716,
          0.19728,
          0.19808,
          0.19219,
          0.26359,
          0.20035,
          0.21575,
          0.20321,
          0.18494,
          0.21767,
          0.22027,
          0.28267,
          0.23687,
          0.20307,
          0.22778,
          0.20754,
          0.15857,
          0.17414,
          0.32485,
          0.21952,
          0.19184,
          0.20289,
          0.18869,
          0.15528,
          0.16117,
          0.22534,
          0.23256,
          0.21396,
          0.19721,
          0.18468,
          0.17712,
          0.18041,
          0.18338,
          0.20023,
          0.19369,
          0.17552,
          0.16877,
          0.16171,
          0.16935,
          0.22239,
          0.18559,
          0.21687,
          0.22397,
          0.17774,
          0.11229,
          0.18484,
          0.20476,
          0.1606,
          0.16216,
          0.16419,
          0.16181,
          0.18824,
          0.15588,
          0.18521,
          0.22029,
          0.16838,
          0.19703,
          0.13445,
          0.17511,
          0.17578,
          0.20199,
          0.18976,
          0.19168,
          0.19439,
          0.14762,
          0.15471,
          0.15803,
          0.19513,
          0.19481,
          0.20698,
          0.17881,
          0.19437,
          0.14811,
          0.17281,
          0.20749,
          0.20089,
          0.21853,
          0.176,
          0.19207,
          0.1771,
          0.18707,
          0.20804,
          0.18002,
          0.20077,
          0.17719,
          0.17121,
          0.14587,
          0.17098,
          0.22857,
          0.18208,
          0.15222,
          0.17324,
          0.17891,
          0.14626,
          0.15903,
          0.20972,
          0.19239,
          0.18584,
          0.17306,
          0.16177,
          0.14751,
          0.19667,
          0.22788,
          0.18802,
          0.17556,
          0.19424,
          0.18257,
          0.17347,
          0.16509,
          0.19027,
          0.15175,
          0.16578,
          0.15589,
          0.16959,
          0.14759,
          0.14486,
          0.20821,
          0.17165,
          0.17172,
          0.13484,
          0.14686,
          0.16651,
          0.15105,
          0.20364,
          0.16224,
          0.18542,
          0.16228,
          0.14465,
          0.12021,
          0.1732,
          0.1826,
          0.23191,
          0.1792,
          0.19941,
          0.17936,
          0.13138,
          0.18209,
          0.20427,
          0.15794,
          0.17677,
          0.15565,
          0.18048,
          0.16815,
          0.18335,
          0.19932,
          0.16283,
          0.18217,
          0.17211,
          0.17123,
          0.13713,
          0.17566,
          0.22447,
          0.1725,
          0.15485,
          0.19309,
          0.15111,
          0.12039,
          0.16079,
          0.21613,
          0.18138,
          0.15433,
          0.15887,
          0.11403,
          0.13826,
          0.14093,
          0.19524,
          0.19376,
          0.15619,
          0.1529,
          0.16164,
          0.15736,
          0.20302,
          0.25431,
          0.19202,
          0.19398,
          0.19816,
          0.18739,
          0.19062,
          0.22504,
          0.3238,
          0.22099,
          0.20971,
          0.19054,
          0.1694,
          0.14493,
          0.16342,
          0.28774,
          0.1744,
          0.11453,
          0.17784,
          0.16657,
          0.17379,
          0.20682,
          0.23595,
          0.18161,
          0.20266,
          0.19818,
          0.17083,
          0.18391,
          0.24621,
          0.31412,
          0.21026,
          0.23705,
          0.2199,
          0.18811,
          0.19502,
          0.20769,
          0.26837,
          0.21909,
          0.24073,
          0.20349,
          0.32875,
          0.23833,
          0.24225,
          0.32728,
          0.22041,
          0.21972,
          0.20802,
          0.20126,
          0.15039,
          0.21844,
          0.29939,
          0.18709,
          0.19225,
          0.16849,
          0.18569,
          0.14897,
          0.21476,
          0.29218,
          0.21158,
          0.20949,
          0.1772,
          0.17153,
          0.17674,
          0.2019,
          0.2581,
          0.2011,
          0.17036,
          0.18791,
          0.24103,
          0.32028,
          0.21203,
          0.30078,
          0.17849,
          0.18529,
          0.26964,
          0.21198,
          0.29766,
          0.29572,
          0.35437
         ]
        }
       ],
       "layout": {
        "showlegend": false,
        "template": {
         "data": {
          "bar": [
           {
            "error_x": {
             "color": "#2a3f5f"
            },
            "error_y": {
             "color": "#2a3f5f"
            },
            "marker": {
             "line": {
              "color": "#E5ECF6",
              "width": 0.5
             },
             "pattern": {
              "fillmode": "overlay",
              "size": 10,
              "solidity": 0.2
             }
            },
            "type": "bar"
           }
          ],
          "barpolar": [
           {
            "marker": {
             "line": {
              "color": "#E5ECF6",
              "width": 0.5
             },
             "pattern": {
              "fillmode": "overlay",
              "size": 10,
              "solidity": 0.2
             }
            },
            "type": "barpolar"
           }
          ],
          "carpet": [
           {
            "aaxis": {
             "endlinecolor": "#2a3f5f",
             "gridcolor": "white",
             "linecolor": "white",
             "minorgridcolor": "white",
             "startlinecolor": "#2a3f5f"
            },
            "baxis": {
             "endlinecolor": "#2a3f5f",
             "gridcolor": "white",
             "linecolor": "white",
             "minorgridcolor": "white",
             "startlinecolor": "#2a3f5f"
            },
            "type": "carpet"
           }
          ],
          "choropleth": [
           {
            "colorbar": {
             "outlinewidth": 0,
             "ticks": ""
            },
            "type": "choropleth"
           }
          ],
          "contour": [
           {
            "colorbar": {
             "outlinewidth": 0,
             "ticks": ""
            },
            "colorscale": [
             [
              0,
              "#0d0887"
             ],
             [
              0.1111111111111111,
              "#46039f"
             ],
             [
              0.2222222222222222,
              "#7201a8"
             ],
             [
              0.3333333333333333,
              "#9c179e"
             ],
             [
              0.4444444444444444,
              "#bd3786"
             ],
             [
              0.5555555555555556,
              "#d8576b"
             ],
             [
              0.6666666666666666,
              "#ed7953"
             ],
             [
              0.7777777777777778,
              "#fb9f3a"
             ],
             [
              0.8888888888888888,
              "#fdca26"
             ],
             [
              1,
              "#f0f921"
             ]
            ],
            "type": "contour"
           }
          ],
          "contourcarpet": [
           {
            "colorbar": {
             "outlinewidth": 0,
             "ticks": ""
            },
            "type": "contourcarpet"
           }
          ],
          "heatmap": [
           {
            "colorbar": {
             "outlinewidth": 0,
             "ticks": ""
            },
            "colorscale": [
             [
              0,
              "#0d0887"
             ],
             [
              0.1111111111111111,
              "#46039f"
             ],
             [
              0.2222222222222222,
              "#7201a8"
             ],
             [
              0.3333333333333333,
              "#9c179e"
             ],
             [
              0.4444444444444444,
              "#bd3786"
             ],
             [
              0.5555555555555556,
              "#d8576b"
             ],
             [
              0.6666666666666666,
              "#ed7953"
             ],
             [
              0.7777777777777778,
              "#fb9f3a"
             ],
             [
              0.8888888888888888,
              "#fdca26"
             ],
             [
              1,
              "#f0f921"
             ]
            ],
            "type": "heatmap"
           }
          ],
          "heatmapgl": [
           {
            "colorbar": {
             "outlinewidth": 0,
             "ticks": ""
            },
            "colorscale": [
             [
              0,
              "#0d0887"
             ],
             [
              0.1111111111111111,
              "#46039f"
             ],
             [
              0.2222222222222222,
              "#7201a8"
             ],
             [
              0.3333333333333333,
              "#9c179e"
             ],
             [
              0.4444444444444444,
              "#bd3786"
             ],
             [
              0.5555555555555556,
              "#d8576b"
             ],
             [
              0.6666666666666666,
              "#ed7953"
             ],
             [
              0.7777777777777778,
              "#fb9f3a"
             ],
             [
              0.8888888888888888,
              "#fdca26"
             ],
             [
              1,
              "#f0f921"
             ]
            ],
            "type": "heatmapgl"
           }
          ],
          "histogram": [
           {
            "marker": {
             "pattern": {
              "fillmode": "overlay",
              "size": 10,
              "solidity": 0.2
             }
            },
            "type": "histogram"
           }
          ],
          "histogram2d": [
           {
            "colorbar": {
             "outlinewidth": 0,
             "ticks": ""
            },
            "colorscale": [
             [
              0,
              "#0d0887"
             ],
             [
              0.1111111111111111,
              "#46039f"
             ],
             [
              0.2222222222222222,
              "#7201a8"
             ],
             [
              0.3333333333333333,
              "#9c179e"
             ],
             [
              0.4444444444444444,
              "#bd3786"
             ],
             [
              0.5555555555555556,
              "#d8576b"
             ],
             [
              0.6666666666666666,
              "#ed7953"
             ],
             [
              0.7777777777777778,
              "#fb9f3a"
             ],
             [
              0.8888888888888888,
              "#fdca26"
             ],
             [
              1,
              "#f0f921"
             ]
            ],
            "type": "histogram2d"
           }
          ],
          "histogram2dcontour": [
           {
            "colorbar": {
             "outlinewidth": 0,
             "ticks": ""
            },
            "colorscale": [
             [
              0,
              "#0d0887"
             ],
             [
              0.1111111111111111,
              "#46039f"
             ],
             [
              0.2222222222222222,
              "#7201a8"
             ],
             [
              0.3333333333333333,
              "#9c179e"
             ],
             [
              0.4444444444444444,
              "#bd3786"
             ],
             [
              0.5555555555555556,
              "#d8576b"
             ],
             [
              0.6666666666666666,
              "#ed7953"
             ],
             [
              0.7777777777777778,
              "#fb9f3a"
             ],
             [
              0.8888888888888888,
              "#fdca26"
             ],
             [
              1,
              "#f0f921"
             ]
            ],
            "type": "histogram2dcontour"
           }
          ],
          "mesh3d": [
           {
            "colorbar": {
             "outlinewidth": 0,
             "ticks": ""
            },
            "type": "mesh3d"
           }
          ],
          "parcoords": [
           {
            "line": {
             "colorbar": {
              "outlinewidth": 0,
              "ticks": ""
             }
            },
            "type": "parcoords"
           }
          ],
          "pie": [
           {
            "automargin": true,
            "type": "pie"
           }
          ],
          "scatter": [
           {
            "marker": {
             "colorbar": {
              "outlinewidth": 0,
              "ticks": ""
             }
            },
            "type": "scatter"
           }
          ],
          "scatter3d": [
           {
            "line": {
             "colorbar": {
              "outlinewidth": 0,
              "ticks": ""
             }
            },
            "marker": {
             "colorbar": {
              "outlinewidth": 0,
              "ticks": ""
             }
            },
            "type": "scatter3d"
           }
          ],
          "scattercarpet": [
           {
            "marker": {
             "colorbar": {
              "outlinewidth": 0,
              "ticks": ""
             }
            },
            "type": "scattercarpet"
           }
          ],
          "scattergeo": [
           {
            "marker": {
             "colorbar": {
              "outlinewidth": 0,
              "ticks": ""
             }
            },
            "type": "scattergeo"
           }
          ],
          "scattergl": [
           {
            "marker": {
             "colorbar": {
              "outlinewidth": 0,
              "ticks": ""
             }
            },
            "type": "scattergl"
           }
          ],
          "scattermapbox": [
           {
            "marker": {
             "colorbar": {
              "outlinewidth": 0,
              "ticks": ""
             }
            },
            "type": "scattermapbox"
           }
          ],
          "scatterpolar": [
           {
            "marker": {
             "colorbar": {
              "outlinewidth": 0,
              "ticks": ""
             }
            },
            "type": "scatterpolar"
           }
          ],
          "scatterpolargl": [
           {
            "marker": {
             "colorbar": {
              "outlinewidth": 0,
              "ticks": ""
             }
            },
            "type": "scatterpolargl"
           }
          ],
          "scatterternary": [
           {
            "marker": {
             "colorbar": {
              "outlinewidth": 0,
              "ticks": ""
             }
            },
            "type": "scatterternary"
           }
          ],
          "surface": [
           {
            "colorbar": {
             "outlinewidth": 0,
             "ticks": ""
            },
            "colorscale": [
             [
              0,
              "#0d0887"
             ],
             [
              0.1111111111111111,
              "#46039f"
             ],
             [
              0.2222222222222222,
              "#7201a8"
             ],
             [
              0.3333333333333333,
              "#9c179e"
             ],
             [
              0.4444444444444444,
              "#bd3786"
             ],
             [
              0.5555555555555556,
              "#d8576b"
             ],
             [
              0.6666666666666666,
              "#ed7953"
             ],
             [
              0.7777777777777778,
              "#fb9f3a"
             ],
             [
              0.8888888888888888,
              "#fdca26"
             ],
             [
              1,
              "#f0f921"
             ]
            ],
            "type": "surface"
           }
          ],
          "table": [
           {
            "cells": {
             "fill": {
              "color": "#EBF0F8"
             },
             "line": {
              "color": "white"
             }
            },
            "header": {
             "fill": {
              "color": "#C8D4E3"
             },
             "line": {
              "color": "white"
             }
            },
            "type": "table"
           }
          ]
         },
         "layout": {
          "annotationdefaults": {
           "arrowcolor": "#2a3f5f",
           "arrowhead": 0,
           "arrowwidth": 1
          },
          "autotypenumbers": "strict",
          "coloraxis": {
           "colorbar": {
            "outlinewidth": 0,
            "ticks": ""
           }
          },
          "colorscale": {
           "diverging": [
            [
             0,
             "#8e0152"
            ],
            [
             0.1,
             "#c51b7d"
            ],
            [
             0.2,
             "#de77ae"
            ],
            [
             0.3,
             "#f1b6da"
            ],
            [
             0.4,
             "#fde0ef"
            ],
            [
             0.5,
             "#f7f7f7"
            ],
            [
             0.6,
             "#e6f5d0"
            ],
            [
             0.7,
             "#b8e186"
            ],
            [
             0.8,
             "#7fbc41"
            ],
            [
             0.9,
             "#4d9221"
            ],
            [
             1,
             "#276419"
            ]
           ],
           "sequential": [
            [
             0,
             "#0d0887"
            ],
            [
             0.1111111111111111,
             "#46039f"
            ],
            [
             0.2222222222222222,
             "#7201a8"
            ],
            [
             0.3333333333333333,
             "#9c179e"
            ],
            [
             0.4444444444444444,
             "#bd3786"
            ],
            [
             0.5555555555555556,
             "#d8576b"
            ],
            [
             0.6666666666666666,
             "#ed7953"
            ],
            [
             0.7777777777777778,
             "#fb9f3a"
            ],
            [
             0.8888888888888888,
             "#fdca26"
            ],
            [
             1,
             "#f0f921"
            ]
           ],
           "sequentialminus": [
            [
             0,
             "#0d0887"
            ],
            [
             0.1111111111111111,
             "#46039f"
            ],
            [
             0.2222222222222222,
             "#7201a8"
            ],
            [
             0.3333333333333333,
             "#9c179e"
            ],
            [
             0.4444444444444444,
             "#bd3786"
            ],
            [
             0.5555555555555556,
             "#d8576b"
            ],
            [
             0.6666666666666666,
             "#ed7953"
            ],
            [
             0.7777777777777778,
             "#fb9f3a"
            ],
            [
             0.8888888888888888,
             "#fdca26"
            ],
            [
             1,
             "#f0f921"
            ]
           ]
          },
          "colorway": [
           "#636efa",
           "#EF553B",
           "#00cc96",
           "#ab63fa",
           "#FFA15A",
           "#19d3f3",
           "#FF6692",
           "#B6E880",
           "#FF97FF",
           "#FECB52"
          ],
          "font": {
           "color": "#2a3f5f"
          },
          "geo": {
           "bgcolor": "white",
           "lakecolor": "white",
           "landcolor": "#E5ECF6",
           "showlakes": true,
           "showland": true,
           "subunitcolor": "white"
          },
          "hoverlabel": {
           "align": "left"
          },
          "hovermode": "closest",
          "mapbox": {
           "style": "light"
          },
          "paper_bgcolor": "white",
          "plot_bgcolor": "#E5ECF6",
          "polar": {
           "angularaxis": {
            "gridcolor": "white",
            "linecolor": "white",
            "ticks": ""
           },
           "bgcolor": "#E5ECF6",
           "radialaxis": {
            "gridcolor": "white",
            "linecolor": "white",
            "ticks": ""
           }
          },
          "scene": {
           "xaxis": {
            "backgroundcolor": "#E5ECF6",
            "gridcolor": "white",
            "gridwidth": 2,
            "linecolor": "white",
            "showbackground": true,
            "ticks": "",
            "zerolinecolor": "white"
           },
           "yaxis": {
            "backgroundcolor": "#E5ECF6",
            "gridcolor": "white",
            "gridwidth": 2,
            "linecolor": "white",
            "showbackground": true,
            "ticks": "",
            "zerolinecolor": "white"
           },
           "zaxis": {
            "backgroundcolor": "#E5ECF6",
            "gridcolor": "white",
            "gridwidth": 2,
            "linecolor": "white",
            "showbackground": true,
            "ticks": "",
            "zerolinecolor": "white"
           }
          },
          "shapedefaults": {
           "line": {
            "color": "#2a3f5f"
           }
          },
          "ternary": {
           "aaxis": {
            "gridcolor": "white",
            "linecolor": "white",
            "ticks": ""
           },
           "baxis": {
            "gridcolor": "white",
            "linecolor": "white",
            "ticks": ""
           },
           "bgcolor": "#E5ECF6",
           "caxis": {
            "gridcolor": "white",
            "linecolor": "white",
            "ticks": ""
           }
          },
          "title": {
           "x": 0.05
          },
          "xaxis": {
           "automargin": true,
           "gridcolor": "white",
           "linecolor": "white",
           "ticks": "",
           "title": {
            "standoff": 15
           },
           "zerolinecolor": "white",
           "zerolinewidth": 2
          },
          "yaxis": {
           "automargin": true,
           "gridcolor": "white",
           "linecolor": "white",
           "ticks": "",
           "title": {
            "standoff": 15
           },
           "zerolinecolor": "white",
           "zerolinewidth": 2
          }
         }
        },
        "title": {
         "text": "Staying in Put"
        },
        "xaxis": {
         "title": {
          "text": "Months"
         }
        },
        "yaxis": {
         "title": {
          "text": ""
         }
        }
       }
      }
     },
     "metadata": {}
    }
   ],
   "metadata": {}
  },
  {
   "cell_type": "code",
   "execution_count": null,
   "source": [
    "# Graph that shows the other indicator but for the Saty in Put index\r\n",
    "facebook_data_USA[facebook_data_USA.polygon_name == \"Los Angeles\"][\"all_day_ratio_single_tile_users\"].plot()\r\n",
    "# @Marie what do you think can explain the difference between these two indicatos in the second wave?\r\n",
    "# Actually they both reflect similar results in the sense that at the onset of the pandemy there is a peak of people who\r\n",
    "# stay at home, and then it goes down as distanctiation measures became softer. However, it is intersting to see that it remains on\r\n",
    "# average above 10%, which is the precovid Level"
   ],
   "outputs": [],
   "metadata": {}
  },
  {
   "cell_type": "code",
   "execution_count": null,
   "source": [
    "# It seems like there are several countyes that do not appear, and some others\r\n",
    "# that are repeated\r\n",
    "facebook_data_USA[facebook_data_USA.polygon_name == \"Nuckolls\"][\"all_day_ratio_single_tile_users\"].plot()\r\n",
    "# @Marie, we need to compe up with a code to check which counties are on the dataset\r\n",
    "# maybe we can start by doing a by state analysis"
   ],
   "outputs": [],
   "metadata": {}
  },
  {
   "cell_type": "code",
   "execution_count": null,
   "source": [
    "# checking the behavior of a random county in Nebraska\r\n",
    "facebook_data_USA[facebook_data_USA.polygon_name == \"Buffalo\"][\"all_day_bing_tiles_visited_relative_change\"].plot()\r\n",
    "# There is more than a county with the same name"
   ],
   "outputs": [],
   "metadata": {}
  },
  {
   "cell_type": "code",
   "execution_count": null,
   "source": [
    "#Usually the first two numbers are the state, I propose that we code for a given State and then we can iterate over\",\r\n",
    "\r\n",
    "State_code = []\r\n",
    "for state in facebook_data_USA[\"polygon_id\"]:\r\n",
    "# getting the code faster\r\n",
    "    if str(state)[:2] in State_code:\r\n",
    "        pass\r\n",
    "    else:\r\n",
    "        State_code.append(str(state)[:2])\r\n",
    "# I got 57 states to iterate over afterwards\r\n",
    "    len(State_code)\r\n",
    "# This code is to be used afterards, just a comment: better to use if conditions to save time and computer performance instead of\r\n",
    "# looping over all the observations"
   ],
   "outputs": [],
   "metadata": {}
  },
  {
   "cell_type": "code",
   "execution_count": null,
   "source": [
    "# Need to figure out how to get the values that coorrespond to a given state\r\n",
    "facebook_data_USA['polygon_id'] = facebook_data_USA['polygon_id'].astype(str)\r\n",
    "# It would be better to treat those values as strings, so that it will be easier to handle them\r\n",
    "facebook_data_USA[facebook_data_USA.polygon_id == '01?' ].head(2)"
   ],
   "outputs": [],
   "metadata": {}
  },
  {
   "cell_type": "code",
   "execution_count": null,
   "source": [
    "facebook_data_USA['polygon_id'].head(2)"
   ],
   "outputs": [],
   "metadata": {}
  },
  {
   "cell_type": "code",
   "execution_count": null,
   "source": [
    "# Maybe we need to check what happens at different time scales\",\r\n",
    "# # It will be usefull to graph the tie series\""
   ],
   "outputs": [],
   "metadata": {}
  },
  {
   "cell_type": "markdown",
   "source": [
    "Hi Santiago? Can you see my changes? \r\n",
    "\r\n",
    "Hello Marie yes"
   ],
   "metadata": {}
  }
 ],
 "metadata": {
  "orig_nbformat": 4,
  "language_info": {
   "name": "python",
   "version": "3.9.7",
   "mimetype": "text/x-python",
   "codemirror_mode": {
    "name": "ipython",
    "version": 3
   },
   "pygments_lexer": "ipython3",
   "nbconvert_exporter": "python",
   "file_extension": ".py"
  },
  "kernelspec": {
   "name": "python3",
   "display_name": "Python 3.9.7 64-bit (windows store)"
  },
  "interpreter": {
   "hash": "d68b38140387b7d888c712f105dc0a08d3f99dc970bca7af5e276da341b00799"
  }
 },
 "nbformat": 4,
 "nbformat_minor": 2
}