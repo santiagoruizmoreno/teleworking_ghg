{
 "cells": [
  {
   "cell_type": "markdown",
   "source": [
    "Hello Marie.\r\n",
    "\r\n",
    "Regarding the organizatoin of the files for the project, I will be glad to hear your comments.\r\n",
    "\r\n",
    "I propose we create, so far, a ipynb documment to estimate the fall in demand of transportation by counties.\r\n",
    "\r\n",
    "And we will see how things go for the rest.\r\n",
    "\r\n",
    "I would create probably another file called,(ex_code) example code which contains some useful functions that I think could be useful for python.\r\n",
    "\r\n",
    "As for the comments, I guess we can use the following example below\r\n",
    "\r\n",
    "Don't hesitate to propose any comments, also if you think that it is too much of a work, we can may ask for an additional extra help, knowing that more people requires more coordination. \r\n",
    "\r\n",
    "Anywas, text me once you get to configurate your files and VS Code. \r\n",
    "\r\n",
    "Best"
   ],
   "metadata": {}
  },
  {
   "cell_type": "markdown",
   "source": [
    "Also when wanting to leave a special comment to other one I propose we use a @Marie or @Santiago tag at the beggining of the line\r\n",
    "@ Marie, ok?"
   ],
   "metadata": {}
  },
  {
   "cell_type": "code",
   "execution_count": 16,
   "source": [
    "!pip install wheel\r\n",
    "!pip install pandas\r\n",
    "!pip install plotly\r\n",
    "!pip install numpy\r\n",
    "!pip install matplotlib"
   ],
   "outputs": [
    {
     "output_type": "stream",
     "name": "stdout",
     "text": [
      "Requirement already satisfied: wheel in c:\\users\\santi\\appdata\\local\\packages\\pythonsoftwarefoundation.python.3.9_qbz5n2kfra8p0\\localcache\\local-packages\\python39\\site-packages (0.37.0)\n",
      "Requirement already satisfied: pandas in c:\\users\\santi\\appdata\\local\\packages\\pythonsoftwarefoundation.python.3.9_qbz5n2kfra8p0\\localcache\\local-packages\\python39\\site-packages (1.3.0)\n",
      "Requirement already satisfied: pytz>=2017.3 in c:\\users\\santi\\appdata\\local\\packages\\pythonsoftwarefoundation.python.3.9_qbz5n2kfra8p0\\localcache\\local-packages\\python39\\site-packages (from pandas) (2021.1)\n",
      "Requirement already satisfied: numpy>=1.17.3 in c:\\users\\santi\\appdata\\local\\packages\\pythonsoftwarefoundation.python.3.9_qbz5n2kfra8p0\\localcache\\local-packages\\python39\\site-packages (from pandas) (1.21.0)\n",
      "Requirement already satisfied: python-dateutil>=2.7.3 in c:\\users\\santi\\appdata\\local\\packages\\pythonsoftwarefoundation.python.3.9_qbz5n2kfra8p0\\localcache\\local-packages\\python39\\site-packages (from pandas) (2.8.1)\n",
      "Requirement already satisfied: six>=1.5 in c:\\users\\santi\\appdata\\local\\packages\\pythonsoftwarefoundation.python.3.9_qbz5n2kfra8p0\\localcache\\local-packages\\python39\\site-packages (from python-dateutil>=2.7.3->pandas) (1.16.0)\n",
      "^C\n",
      "Requirement already satisfied: numpy in c:\\users\\santi\\appdata\\local\\packages\\pythonsoftwarefoundation.python.3.9_qbz5n2kfra8p0\\localcache\\local-packages\\python39\\site-packages (1.21.0)\n",
      "Requirement already satisfied: matplotlib in c:\\users\\santi\\appdata\\local\\packages\\pythonsoftwarefoundation.python.3.9_qbz5n2kfra8p0\\localcache\\local-packages\\python39\\site-packages (3.4.2)\n",
      "Requirement already satisfied: numpy>=1.16 in c:\\users\\santi\\appdata\\local\\packages\\pythonsoftwarefoundation.python.3.9_qbz5n2kfra8p0\\localcache\\local-packages\\python39\\site-packages (from matplotlib) (1.21.0)\n",
      "Requirement already satisfied: pillow>=6.2.0 in c:\\users\\santi\\appdata\\local\\packages\\pythonsoftwarefoundation.python.3.9_qbz5n2kfra8p0\\localcache\\local-packages\\python39\\site-packages (from matplotlib) (8.3.1)\n",
      "Requirement already satisfied: pyparsing>=2.2.1 in c:\\users\\santi\\appdata\\local\\packages\\pythonsoftwarefoundation.python.3.9_qbz5n2kfra8p0\\localcache\\local-packages\\python39\\site-packages (from matplotlib) (2.4.7)\n",
      "Requirement already satisfied: python-dateutil>=2.7 in c:\\users\\santi\\appdata\\local\\packages\\pythonsoftwarefoundation.python.3.9_qbz5n2kfra8p0\\localcache\\local-packages\\python39\\site-packages (from matplotlib) (2.8.1)\n",
      "Requirement already satisfied: cycler>=0.10 in c:\\users\\santi\\appdata\\local\\packages\\pythonsoftwarefoundation.python.3.9_qbz5n2kfra8p0\\localcache\\local-packages\\python39\\site-packages (from matplotlib) (0.10.0)\n",
      "Requirement already satisfied: kiwisolver>=1.0.1 in c:\\users\\santi\\appdata\\local\\packages\\pythonsoftwarefoundation.python.3.9_qbz5n2kfra8p0\\localcache\\local-packages\\python39\\site-packages (from matplotlib) (1.3.1)\n",
      "Requirement already satisfied: six in c:\\users\\santi\\appdata\\local\\packages\\pythonsoftwarefoundation.python.3.9_qbz5n2kfra8p0\\localcache\\local-packages\\python39\\site-packages (from cycler>=0.10->matplotlib) (1.16.0)\n"
     ]
    }
   ],
   "metadata": {}
  },
  {
   "cell_type": "code",
   "execution_count": null,
   "source": [
    "###### The purpose of these lines is.....\r\n",
    "###### \r\n",
    "### Comment: What's the purpose of the function.\r\n",
    "def function (var1, var2):\r\n",
    "### What the function does, and why the variables are needed. \r\n",
    "    return()\r\n",
    "### what does it return and in which format"
   ],
   "outputs": [],
   "metadata": {}
  },
  {
   "cell_type": "code",
   "execution_count": 1,
   "source": [
    "### Importing the needed packages\r\n",
    "import pandas as pd\r\n",
    "import numpy as np\r\n",
    "import os\r\n",
    "import matplotlib"
   ],
   "outputs": [],
   "metadata": {}
  },
  {
   "cell_type": "code",
   "execution_count": 2,
   "source": [
    "# Setting the directory: Maybe instead of modifying this line, you can add a new line with your path\r\n",
    "# os.chdir(\"C:/Users/santi/OneDrive/GHG_07_08_2021/Data/movement-range-data-2021-04-27/\")\r\n",
    "os.chdir(\"/Users/marie/Desktop/Papier/Data/movement-range-2021-04-27/\")"
   ],
   "outputs": [
    {
     "output_type": "error",
     "ename": "FileNotFoundError",
     "evalue": "[WinError 3] The system cannot find the path specified: '/Users/marie/Desktop/Papier/Data/movement-range-2021-04-27/'",
     "traceback": [
      "\u001b[1;31m---------------------------------------------------------------------------\u001b[0m",
      "\u001b[1;31mFileNotFoundError\u001b[0m                         Traceback (most recent call last)",
      "\u001b[1;32m~\\AppData\\Local\\Temp/ipykernel_10144/2500245868.py\u001b[0m in \u001b[0;36m<module>\u001b[1;34m\u001b[0m\n\u001b[0;32m      1\u001b[0m \u001b[1;31m# Setting the directory: Maybe instead of modifying this line, you can add a new line with your path\u001b[0m\u001b[1;33m\u001b[0m\u001b[1;33m\u001b[0m\u001b[0m\n\u001b[0;32m      2\u001b[0m \u001b[1;31m# os.chdir(\"C:/Users/santi/OneDrive/GHG_07_08_2021/Data/movement-range-data-2021-04-27/\")\u001b[0m\u001b[1;33m\u001b[0m\u001b[1;33m\u001b[0m\u001b[0m\n\u001b[1;32m----> 3\u001b[1;33m \u001b[0mos\u001b[0m\u001b[1;33m.\u001b[0m\u001b[0mchdir\u001b[0m\u001b[1;33m(\u001b[0m\u001b[1;34m\"/Users/marie/Desktop/Papier/Data/movement-range-2021-04-27/\"\u001b[0m\u001b[1;33m)\u001b[0m\u001b[1;33m\u001b[0m\u001b[1;33m\u001b[0m\u001b[0m\n\u001b[0m",
      "\u001b[1;31mFileNotFoundError\u001b[0m: [WinError 3] The system cannot find the path specified: '/Users/marie/Desktop/Papier/Data/movement-range-2021-04-27/'"
     ]
    }
   ],
   "metadata": {}
  },
  {
   "cell_type": "code",
   "execution_count": 4,
   "source": [
    "os.chdir(\"C:/Users/santi/OneDrive/GHG_07_08_2021/Data/movement-range-data-2021-04-27/\")"
   ],
   "outputs": [],
   "metadata": {}
  },
  {
   "cell_type": "code",
   "execution_count": 5,
   "source": [
    "facebook_data = pd.read_table(\"movement-range-2021-04-27.txt\")"
   ],
   "outputs": [
    {
     "output_type": "stream",
     "name": "stderr",
     "text": [
      "C:\\Users\\santi\\AppData\\Local\\Packages\\PythonSoftwareFoundation.Python.3.9_qbz5n2kfra8p0\\LocalCache\\local-packages\\Python39\\site-packages\\IPython\\core\\interactiveshell.py:3441: DtypeWarning: Columns (3) have mixed types.Specify dtype option on import or set low_memory=False.\n",
      "  exec(code_obj, self.user_global_ns, self.user_ns)\n"
     ]
    }
   ],
   "metadata": {}
  },
  {
   "cell_type": "code",
   "execution_count": 6,
   "source": [
    "# Importing Facebook Data\r\n",
    "ones = []\r\n",
    "# Loop to add a column of ones to the dataset \r\n",
    "for i in range(facebook_data.shape[0]):\r\n",
    "    ones.append(1)\r\n",
    "# Adding it to the dataset\r\n",
    "facebook_data['ones'] = ones\r\n",
    "# Getting the count of observations by Country\r\n",
    "by_country = facebook_data['ones'].groupby(facebook_data.country).sum()\r\n",
    "# Observatoins in the United States\r\n",
    "print(by_country[by_country.index == \"USA\"])\r\n",
    "# Creating a smaller database with only USA's observations\r\n",
    "facebook_data_USA = facebook_data[facebook_data.country == \"USA\"]"
   ],
   "outputs": [
    {
     "output_type": "stream",
     "name": "stdout",
     "text": [
      "country\n",
      "USA    1028263\n",
      "Name: ones, dtype: int64\n"
     ]
    }
   ],
   "metadata": {}
  },
  {
   "cell_type": "code",
   "execution_count": 8,
   "source": [
    "#To see how the data set looks like \r\n",
    "facebook_data_USA.head()"
   ],
   "outputs": [
    {
     "output_type": "execute_result",
     "data": {
      "text/html": [
       "<div>\n",
       "<style scoped>\n",
       "    .dataframe tbody tr th:only-of-type {\n",
       "        vertical-align: middle;\n",
       "    }\n",
       "\n",
       "    .dataframe tbody tr th {\n",
       "        vertical-align: top;\n",
       "    }\n",
       "\n",
       "    .dataframe thead th {\n",
       "        text-align: right;\n",
       "    }\n",
       "</style>\n",
       "<table border=\"1\" class=\"dataframe\">\n",
       "  <thead>\n",
       "    <tr style=\"text-align: right;\">\n",
       "      <th></th>\n",
       "      <th>ds</th>\n",
       "      <th>country</th>\n",
       "      <th>polygon_source</th>\n",
       "      <th>polygon_id</th>\n",
       "      <th>polygon_name</th>\n",
       "      <th>all_day_bing_tiles_visited_relative_change</th>\n",
       "      <th>all_day_ratio_single_tile_users</th>\n",
       "      <th>baseline_name</th>\n",
       "      <th>baseline_type</th>\n",
       "      <th>ones</th>\n",
       "    </tr>\n",
       "  </thead>\n",
       "  <tbody>\n",
       "    <tr>\n",
       "      <th>5397902</th>\n",
       "      <td>2020-03-01</td>\n",
       "      <td>USA</td>\n",
       "      <td>FIPS</td>\n",
       "      <td>01001</td>\n",
       "      <td>Autauga</td>\n",
       "      <td>0.04845</td>\n",
       "      <td>0.18910</td>\n",
       "      <td>full_february_except_presidents_day</td>\n",
       "      <td>DAY_OF_WEEK</td>\n",
       "      <td>1</td>\n",
       "    </tr>\n",
       "    <tr>\n",
       "      <th>5397903</th>\n",
       "      <td>2020-03-02</td>\n",
       "      <td>USA</td>\n",
       "      <td>FIPS</td>\n",
       "      <td>01001</td>\n",
       "      <td>Autauga</td>\n",
       "      <td>0.03275</td>\n",
       "      <td>0.15003</td>\n",
       "      <td>full_february_except_presidents_day</td>\n",
       "      <td>DAY_OF_WEEK</td>\n",
       "      <td>1</td>\n",
       "    </tr>\n",
       "    <tr>\n",
       "      <th>5397904</th>\n",
       "      <td>2020-03-03</td>\n",
       "      <td>USA</td>\n",
       "      <td>FIPS</td>\n",
       "      <td>01001</td>\n",
       "      <td>Autauga</td>\n",
       "      <td>0.05122</td>\n",
       "      <td>0.14391</td>\n",
       "      <td>full_february_except_presidents_day</td>\n",
       "      <td>DAY_OF_WEEK</td>\n",
       "      <td>1</td>\n",
       "    </tr>\n",
       "    <tr>\n",
       "      <th>5397905</th>\n",
       "      <td>2020-03-04</td>\n",
       "      <td>USA</td>\n",
       "      <td>FIPS</td>\n",
       "      <td>01001</td>\n",
       "      <td>Autauga</td>\n",
       "      <td>-0.04741</td>\n",
       "      <td>0.16058</td>\n",
       "      <td>full_february_except_presidents_day</td>\n",
       "      <td>DAY_OF_WEEK</td>\n",
       "      <td>1</td>\n",
       "    </tr>\n",
       "    <tr>\n",
       "      <th>5397906</th>\n",
       "      <td>2020-03-05</td>\n",
       "      <td>USA</td>\n",
       "      <td>FIPS</td>\n",
       "      <td>01001</td>\n",
       "      <td>Autauga</td>\n",
       "      <td>0.06285</td>\n",
       "      <td>0.15298</td>\n",
       "      <td>full_february_except_presidents_day</td>\n",
       "      <td>DAY_OF_WEEK</td>\n",
       "      <td>1</td>\n",
       "    </tr>\n",
       "  </tbody>\n",
       "</table>\n",
       "</div>"
      ],
      "text/plain": [
       "                 ds country polygon_source polygon_id polygon_name  \\\n",
       "5397902  2020-03-01     USA           FIPS      01001      Autauga   \n",
       "5397903  2020-03-02     USA           FIPS      01001      Autauga   \n",
       "5397904  2020-03-03     USA           FIPS      01001      Autauga   \n",
       "5397905  2020-03-04     USA           FIPS      01001      Autauga   \n",
       "5397906  2020-03-05     USA           FIPS      01001      Autauga   \n",
       "\n",
       "         all_day_bing_tiles_visited_relative_change  \\\n",
       "5397902                                     0.04845   \n",
       "5397903                                     0.03275   \n",
       "5397904                                     0.05122   \n",
       "5397905                                    -0.04741   \n",
       "5397906                                     0.06285   \n",
       "\n",
       "         all_day_ratio_single_tile_users                        baseline_name  \\\n",
       "5397902                          0.18910  full_february_except_presidents_day   \n",
       "5397903                          0.15003  full_february_except_presidents_day   \n",
       "5397904                          0.14391  full_february_except_presidents_day   \n",
       "5397905                          0.16058  full_february_except_presidents_day   \n",
       "5397906                          0.15298  full_february_except_presidents_day   \n",
       "\n",
       "        baseline_type  ones  \n",
       "5397902   DAY_OF_WEEK     1  \n",
       "5397903   DAY_OF_WEEK     1  \n",
       "5397904   DAY_OF_WEEK     1  \n",
       "5397905   DAY_OF_WEEK     1  \n",
       "5397906   DAY_OF_WEEK     1  "
      ]
     },
     "metadata": {},
     "execution_count": 8
    }
   ],
   "metadata": {}
  },
  {
   "cell_type": "code",
   "execution_count": null,
   "source": [
    "# To check whether the poligons correspond with the ones in the Occupations dataset \r\n",
    "# As a comment because the list is very long\r\n",
    "# counties=set(facebook_data_USA.polygon_name) \r\n",
    "# counties"
   ],
   "outputs": [],
   "metadata": {}
  },
  {
   "cell_type": "code",
   "execution_count": 11,
   "source": [
    "# Getting the count of observations by county\r\n",
    "by_county = facebook_data['ones'].groupby(facebook_data.polygon_name).sum()\r\n",
    "# Observatoins in Los Angeles\r\n",
    "print(by_county[by_county.index == \"Los Angeles\"])"
   ],
   "outputs": [
    {
     "output_type": "stream",
     "name": "stdout",
     "text": [
      "polygon_name\n",
      "Los Angeles    423\n",
      "Name: ones, dtype: int64\n"
     ]
    }
   ],
   "metadata": {}
  },
  {
   "cell_type": "code",
   "execution_count": 12,
   "source": [
    "facebook_data_USA[facebook_data_USA.polygon_name == \"Los Angeles\"]\r\n",
    "#Each observation corresponds to one day "
   ],
   "outputs": [
    {
     "output_type": "execute_result",
     "data": {
      "text/html": [
       "<div>\n",
       "<style scoped>\n",
       "    .dataframe tbody tr th:only-of-type {\n",
       "        vertical-align: middle;\n",
       "    }\n",
       "\n",
       "    .dataframe tbody tr th {\n",
       "        vertical-align: top;\n",
       "    }\n",
       "\n",
       "    .dataframe thead th {\n",
       "        text-align: right;\n",
       "    }\n",
       "</style>\n",
       "<table border=\"1\" class=\"dataframe\">\n",
       "  <thead>\n",
       "    <tr style=\"text-align: right;\">\n",
       "      <th></th>\n",
       "      <th>ds</th>\n",
       "      <th>country</th>\n",
       "      <th>polygon_source</th>\n",
       "      <th>polygon_id</th>\n",
       "      <th>polygon_name</th>\n",
       "      <th>all_day_bing_tiles_visited_relative_change</th>\n",
       "      <th>all_day_ratio_single_tile_users</th>\n",
       "      <th>baseline_name</th>\n",
       "      <th>baseline_type</th>\n",
       "      <th>ones</th>\n",
       "    </tr>\n",
       "  </thead>\n",
       "  <tbody>\n",
       "    <tr>\n",
       "      <th>5466168</th>\n",
       "      <td>2020-03-01</td>\n",
       "      <td>USA</td>\n",
       "      <td>FIPS</td>\n",
       "      <td>6037</td>\n",
       "      <td>Los Angeles</td>\n",
       "      <td>-0.01012</td>\n",
       "      <td>0.15700</td>\n",
       "      <td>full_february_except_presidents_day</td>\n",
       "      <td>DAY_OF_WEEK</td>\n",
       "      <td>1</td>\n",
       "    </tr>\n",
       "    <tr>\n",
       "      <th>5466169</th>\n",
       "      <td>2020-03-02</td>\n",
       "      <td>USA</td>\n",
       "      <td>FIPS</td>\n",
       "      <td>6037</td>\n",
       "      <td>Los Angeles</td>\n",
       "      <td>0.00395</td>\n",
       "      <td>0.11065</td>\n",
       "      <td>full_february_except_presidents_day</td>\n",
       "      <td>DAY_OF_WEEK</td>\n",
       "      <td>1</td>\n",
       "    </tr>\n",
       "    <tr>\n",
       "      <th>5466170</th>\n",
       "      <td>2020-03-03</td>\n",
       "      <td>USA</td>\n",
       "      <td>FIPS</td>\n",
       "      <td>6037</td>\n",
       "      <td>Los Angeles</td>\n",
       "      <td>0.02396</td>\n",
       "      <td>0.10284</td>\n",
       "      <td>full_february_except_presidents_day</td>\n",
       "      <td>DAY_OF_WEEK</td>\n",
       "      <td>1</td>\n",
       "    </tr>\n",
       "    <tr>\n",
       "      <th>5466171</th>\n",
       "      <td>2020-03-04</td>\n",
       "      <td>USA</td>\n",
       "      <td>FIPS</td>\n",
       "      <td>6037</td>\n",
       "      <td>Los Angeles</td>\n",
       "      <td>-0.00217</td>\n",
       "      <td>0.10628</td>\n",
       "      <td>full_february_except_presidents_day</td>\n",
       "      <td>DAY_OF_WEEK</td>\n",
       "      <td>1</td>\n",
       "    </tr>\n",
       "    <tr>\n",
       "      <th>5466172</th>\n",
       "      <td>2020-03-05</td>\n",
       "      <td>USA</td>\n",
       "      <td>FIPS</td>\n",
       "      <td>6037</td>\n",
       "      <td>Los Angeles</td>\n",
       "      <td>-0.00293</td>\n",
       "      <td>0.10797</td>\n",
       "      <td>full_february_except_presidents_day</td>\n",
       "      <td>DAY_OF_WEEK</td>\n",
       "      <td>1</td>\n",
       "    </tr>\n",
       "    <tr>\n",
       "      <th>...</th>\n",
       "      <td>...</td>\n",
       "      <td>...</td>\n",
       "      <td>...</td>\n",
       "      <td>...</td>\n",
       "      <td>...</td>\n",
       "      <td>...</td>\n",
       "      <td>...</td>\n",
       "      <td>...</td>\n",
       "      <td>...</td>\n",
       "      <td>...</td>\n",
       "    </tr>\n",
       "    <tr>\n",
       "      <th>5466586</th>\n",
       "      <td>2021-04-23</td>\n",
       "      <td>USA</td>\n",
       "      <td>FIPS</td>\n",
       "      <td>6037</td>\n",
       "      <td>Los Angeles</td>\n",
       "      <td>-0.15211</td>\n",
       "      <td>0.16415</td>\n",
       "      <td>full_february_except_presidents_day</td>\n",
       "      <td>DAY_OF_WEEK</td>\n",
       "      <td>1</td>\n",
       "    </tr>\n",
       "    <tr>\n",
       "      <th>5466587</th>\n",
       "      <td>2021-04-24</td>\n",
       "      <td>USA</td>\n",
       "      <td>FIPS</td>\n",
       "      <td>6037</td>\n",
       "      <td>Los Angeles</td>\n",
       "      <td>-0.09710</td>\n",
       "      <td>0.17853</td>\n",
       "      <td>full_february_except_presidents_day</td>\n",
       "      <td>DAY_OF_WEEK</td>\n",
       "      <td>1</td>\n",
       "    </tr>\n",
       "    <tr>\n",
       "      <th>5466588</th>\n",
       "      <td>2021-04-25</td>\n",
       "      <td>USA</td>\n",
       "      <td>FIPS</td>\n",
       "      <td>6037</td>\n",
       "      <td>Los Angeles</td>\n",
       "      <td>-0.08621</td>\n",
       "      <td>0.20428</td>\n",
       "      <td>full_february_except_presidents_day</td>\n",
       "      <td>DAY_OF_WEEK</td>\n",
       "      <td>1</td>\n",
       "    </tr>\n",
       "    <tr>\n",
       "      <th>5466589</th>\n",
       "      <td>2021-04-26</td>\n",
       "      <td>USA</td>\n",
       "      <td>FIPS</td>\n",
       "      <td>6037</td>\n",
       "      <td>Los Angeles</td>\n",
       "      <td>-0.14627</td>\n",
       "      <td>0.17540</td>\n",
       "      <td>full_february_except_presidents_day</td>\n",
       "      <td>DAY_OF_WEEK</td>\n",
       "      <td>1</td>\n",
       "    </tr>\n",
       "    <tr>\n",
       "      <th>5466590</th>\n",
       "      <td>2021-04-27</td>\n",
       "      <td>USA</td>\n",
       "      <td>FIPS</td>\n",
       "      <td>6037</td>\n",
       "      <td>Los Angeles</td>\n",
       "      <td>-0.15419</td>\n",
       "      <td>0.17378</td>\n",
       "      <td>full_february_except_presidents_day</td>\n",
       "      <td>DAY_OF_WEEK</td>\n",
       "      <td>1</td>\n",
       "    </tr>\n",
       "  </tbody>\n",
       "</table>\n",
       "<p>423 rows × 10 columns</p>\n",
       "</div>"
      ],
      "text/plain": [
       "                 ds country polygon_source polygon_id polygon_name  \\\n",
       "5466168  2020-03-01     USA           FIPS       6037  Los Angeles   \n",
       "5466169  2020-03-02     USA           FIPS       6037  Los Angeles   \n",
       "5466170  2020-03-03     USA           FIPS       6037  Los Angeles   \n",
       "5466171  2020-03-04     USA           FIPS       6037  Los Angeles   \n",
       "5466172  2020-03-05     USA           FIPS       6037  Los Angeles   \n",
       "...             ...     ...            ...        ...          ...   \n",
       "5466586  2021-04-23     USA           FIPS       6037  Los Angeles   \n",
       "5466587  2021-04-24     USA           FIPS       6037  Los Angeles   \n",
       "5466588  2021-04-25     USA           FIPS       6037  Los Angeles   \n",
       "5466589  2021-04-26     USA           FIPS       6037  Los Angeles   \n",
       "5466590  2021-04-27     USA           FIPS       6037  Los Angeles   \n",
       "\n",
       "         all_day_bing_tiles_visited_relative_change  \\\n",
       "5466168                                    -0.01012   \n",
       "5466169                                     0.00395   \n",
       "5466170                                     0.02396   \n",
       "5466171                                    -0.00217   \n",
       "5466172                                    -0.00293   \n",
       "...                                             ...   \n",
       "5466586                                    -0.15211   \n",
       "5466587                                    -0.09710   \n",
       "5466588                                    -0.08621   \n",
       "5466589                                    -0.14627   \n",
       "5466590                                    -0.15419   \n",
       "\n",
       "         all_day_ratio_single_tile_users                        baseline_name  \\\n",
       "5466168                          0.15700  full_february_except_presidents_day   \n",
       "5466169                          0.11065  full_february_except_presidents_day   \n",
       "5466170                          0.10284  full_february_except_presidents_day   \n",
       "5466171                          0.10628  full_february_except_presidents_day   \n",
       "5466172                          0.10797  full_february_except_presidents_day   \n",
       "...                                  ...                                  ...   \n",
       "5466586                          0.16415  full_february_except_presidents_day   \n",
       "5466587                          0.17853  full_february_except_presidents_day   \n",
       "5466588                          0.20428  full_february_except_presidents_day   \n",
       "5466589                          0.17540  full_february_except_presidents_day   \n",
       "5466590                          0.17378  full_february_except_presidents_day   \n",
       "\n",
       "        baseline_type  ones  \n",
       "5466168   DAY_OF_WEEK     1  \n",
       "5466169   DAY_OF_WEEK     1  \n",
       "5466170   DAY_OF_WEEK     1  \n",
       "5466171   DAY_OF_WEEK     1  \n",
       "5466172   DAY_OF_WEEK     1  \n",
       "...               ...   ...  \n",
       "5466586   DAY_OF_WEEK     1  \n",
       "5466587   DAY_OF_WEEK     1  \n",
       "5466588   DAY_OF_WEEK     1  \n",
       "5466589   DAY_OF_WEEK     1  \n",
       "5466590   DAY_OF_WEEK     1  \n",
       "\n",
       "[423 rows x 10 columns]"
      ]
     },
     "metadata": {},
     "execution_count": 12
    }
   ],
   "metadata": {}
  },
  {
   "cell_type": "code",
   "execution_count": 20,
   "source": [
    "# Checking the behavior of a random county in California\r\n",
    "facebook_data_USA[facebook_data_USA.polygon_name == \"Los Angeles\"][\"all_day_bing_tiles_visited_relative_change\"].plot()\r\n",
    "facebook_data_USA[\"date\"] = pd.to_datetime(facebook_data_USA[facebook_data_USA.polygon_name == \"Los Angeles\"]['ds'])\r\n",
    "\r\n",
    "# @Santiago, "
   ],
   "outputs": [
    {
     "output_type": "stream",
     "name": "stderr",
     "text": [
      "C:\\Users\\santi\\AppData\\Local\\Packages\\PythonSoftwareFoundation.Python.3.9_qbz5n2kfra8p0\\LocalCache\\local-packages\\Python39\\site-packages\\pandas\\core\\frame.py:3607: SettingWithCopyWarning:\n",
      "\n",
      "\n",
      "A value is trying to be set on a copy of a slice from a DataFrame.\n",
      "Try using .loc[row_indexer,col_indexer] = value instead\n",
      "\n",
      "See the caveats in the documentation: https://pandas.pydata.org/pandas-docs/stable/user_guide/indexing.html#returning-a-view-versus-a-copy\n",
      "\n"
     ]
    },
    {
     "output_type": "display_data",
     "data": {
      "image/png": "[encoded data removed]",
      "text/plain": [
       "<Figure size 432x288 with 1 Axes>"
      ]
     },
     "metadata": {
      "needs_background": "light"
     }
    }
   ],
   "metadata": {}
  },
  {
   "cell_type": "code",
   "execution_count": 22,
   "source": [
    "### Ploting the graph with the dates \r\n",
    "import plotly.express as px \r\n",
    "import plotly.graph_objs as go\r\n",
    "\r\n",
    "fig = go.Figure(data=go.Scatter(x= facebook_data_USA[\"date\"].astype(dtype=str), \r\n",
    "                        y= facebook_data_USA[facebook_data_USA.polygon_name == \"Los Angeles\"][\"all_day_bing_tiles_visited_relative_change\"],\r\n",
    "                        marker_color='indianred', text=\"counts\"))\r\n",
    "fig.update_layout({\"title\": 'Tweets about Malioboro from Jan 2020 to Jan 2021',\r\n",
    "                   \"xaxis\": {\"title\":\"Months\"},\r\n",
    "                   \"yaxis\": {\"title\":\"Total tweets\"},\r\n",
    "                   \"showlegend\": False})\r\n",
    "fig.write_image(\"by-month.png\",format=\"png\", width=1000, height=600, scale=3)\r\n",
    "fig.show()"
   ],
   "outputs": [
    {
     "output_type": "error",
     "ename": "ValueError",
     "evalue": "\nImage export using the \"kaleido\" engine requires the kaleido package,\nwhich can be installed using pip:\n    $ pip install -U kaleido\n",
     "traceback": [
      "\u001b[1;31m---------------------------------------------------------------------------\u001b[0m",
      "\u001b[1;31mValueError\u001b[0m                                Traceback (most recent call last)",
      "\u001b[1;32m~\\AppData\\Local\\Temp/ipykernel_10144/443908255.py\u001b[0m in \u001b[0;36m<module>\u001b[1;34m\u001b[0m\n\u001b[0;32m     10\u001b[0m                    \u001b[1;34m\"yaxis\"\u001b[0m\u001b[1;33m:\u001b[0m \u001b[1;33m{\u001b[0m\u001b[1;34m\"title\"\u001b[0m\u001b[1;33m:\u001b[0m\u001b[1;34m\"Total tweets\"\u001b[0m\u001b[1;33m}\u001b[0m\u001b[1;33m,\u001b[0m\u001b[1;33m\u001b[0m\u001b[1;33m\u001b[0m\u001b[0m\n\u001b[0;32m     11\u001b[0m                    \"showlegend\": False})\n\u001b[1;32m---> 12\u001b[1;33m \u001b[0mfig\u001b[0m\u001b[1;33m.\u001b[0m\u001b[0mwrite_image\u001b[0m\u001b[1;33m(\u001b[0m\u001b[1;34m\"by-month.png\"\u001b[0m\u001b[1;33m,\u001b[0m\u001b[0mformat\u001b[0m\u001b[1;33m=\u001b[0m\u001b[1;34m\"png\"\u001b[0m\u001b[1;33m,\u001b[0m \u001b[0mwidth\u001b[0m\u001b[1;33m=\u001b[0m\u001b[1;36m1000\u001b[0m\u001b[1;33m,\u001b[0m \u001b[0mheight\u001b[0m\u001b[1;33m=\u001b[0m\u001b[1;36m600\u001b[0m\u001b[1;33m,\u001b[0m \u001b[0mscale\u001b[0m\u001b[1;33m=\u001b[0m\u001b[1;36m3\u001b[0m\u001b[1;33m)\u001b[0m\u001b[1;33m\u001b[0m\u001b[1;33m\u001b[0m\u001b[0m\n\u001b[0m\u001b[0;32m     13\u001b[0m \u001b[0mfig\u001b[0m\u001b[1;33m.\u001b[0m\u001b[0mshow\u001b[0m\u001b[1;33m(\u001b[0m\u001b[1;33m)\u001b[0m\u001b[1;33m\u001b[0m\u001b[1;33m\u001b[0m\u001b[0m\n",
      "\u001b[1;32m~\\AppData\\Local\\Packages\\PythonSoftwareFoundation.Python.3.9_qbz5n2kfra8p0\\LocalCache\\local-packages\\Python39\\site-packages\\plotly\\basedatatypes.py\u001b[0m in \u001b[0;36mwrite_image\u001b[1;34m(self, *args, **kwargs)\u001b[0m\n\u001b[0;32m   3819\u001b[0m         \u001b[1;32mimport\u001b[0m \u001b[0mplotly\u001b[0m\u001b[1;33m.\u001b[0m\u001b[0mio\u001b[0m \u001b[1;32mas\u001b[0m \u001b[0mpio\u001b[0m\u001b[1;33m\u001b[0m\u001b[1;33m\u001b[0m\u001b[0m\n\u001b[0;32m   3820\u001b[0m \u001b[1;33m\u001b[0m\u001b[0m\n\u001b[1;32m-> 3821\u001b[1;33m         \u001b[1;32mreturn\u001b[0m \u001b[0mpio\u001b[0m\u001b[1;33m.\u001b[0m\u001b[0mwrite_image\u001b[0m\u001b[1;33m(\u001b[0m\u001b[0mself\u001b[0m\u001b[1;33m,\u001b[0m \u001b[1;33m*\u001b[0m\u001b[0margs\u001b[0m\u001b[1;33m,\u001b[0m \u001b[1;33m**\u001b[0m\u001b[0mkwargs\u001b[0m\u001b[1;33m)\u001b[0m\u001b[1;33m\u001b[0m\u001b[1;33m\u001b[0m\u001b[0m\n\u001b[0m\u001b[0;32m   3822\u001b[0m \u001b[1;33m\u001b[0m\u001b[0m\n\u001b[0;32m   3823\u001b[0m     \u001b[1;31m# Static helpers\u001b[0m\u001b[1;33m\u001b[0m\u001b[1;33m\u001b[0m\u001b[0m\n",
      "\u001b[1;32m~\\AppData\\Local\\Packages\\PythonSoftwareFoundation.Python.3.9_qbz5n2kfra8p0\\LocalCache\\local-packages\\Python39\\site-packages\\plotly\\io\\_kaleido.py\u001b[0m in \u001b[0;36mwrite_image\u001b[1;34m(fig, file, format, scale, width, height, validate, engine)\u001b[0m\n\u001b[0;32m    266\u001b[0m     \u001b[1;31m# -------------\u001b[0m\u001b[1;33m\u001b[0m\u001b[1;33m\u001b[0m\u001b[0m\n\u001b[0;32m    267\u001b[0m     \u001b[1;31m# Do this first so we don't create a file if image conversion fails\u001b[0m\u001b[1;33m\u001b[0m\u001b[1;33m\u001b[0m\u001b[0m\n\u001b[1;32m--> 268\u001b[1;33m     img_data = to_image(\n\u001b[0m\u001b[0;32m    269\u001b[0m         \u001b[0mfig\u001b[0m\u001b[1;33m,\u001b[0m\u001b[1;33m\u001b[0m\u001b[1;33m\u001b[0m\u001b[0m\n\u001b[0;32m    270\u001b[0m         \u001b[0mformat\u001b[0m\u001b[1;33m=\u001b[0m\u001b[0mformat\u001b[0m\u001b[1;33m,\u001b[0m\u001b[1;33m\u001b[0m\u001b[1;33m\u001b[0m\u001b[0m\n",
      "\u001b[1;32m~\\AppData\\Local\\Packages\\PythonSoftwareFoundation.Python.3.9_qbz5n2kfra8p0\\LocalCache\\local-packages\\Python39\\site-packages\\plotly\\io\\_kaleido.py\u001b[0m in \u001b[0;36mto_image\u001b[1;34m(fig, format, width, height, scale, validate, engine)\u001b[0m\n\u001b[0;32m    132\u001b[0m     \u001b[1;31m# Raise informative error message if Kaleido is not installed\u001b[0m\u001b[1;33m\u001b[0m\u001b[1;33m\u001b[0m\u001b[0m\n\u001b[0;32m    133\u001b[0m     \u001b[1;32mif\u001b[0m \u001b[0mscope\u001b[0m \u001b[1;32mis\u001b[0m \u001b[1;32mNone\u001b[0m\u001b[1;33m:\u001b[0m\u001b[1;33m\u001b[0m\u001b[1;33m\u001b[0m\u001b[0m\n\u001b[1;32m--> 134\u001b[1;33m         raise ValueError(\n\u001b[0m\u001b[0;32m    135\u001b[0m             \"\"\"\n\u001b[0;32m    136\u001b[0m \u001b[0mImage\u001b[0m \u001b[0mexport\u001b[0m \u001b[0musing\u001b[0m \u001b[0mthe\u001b[0m \u001b[1;34m\"kaleido\"\u001b[0m \u001b[0mengine\u001b[0m \u001b[0mrequires\u001b[0m \u001b[0mthe\u001b[0m \u001b[0mkaleido\u001b[0m \u001b[0mpackage\u001b[0m\u001b[1;33m,\u001b[0m\u001b[1;33m\u001b[0m\u001b[1;33m\u001b[0m\u001b[0m\n",
      "\u001b[1;31mValueError\u001b[0m: \nImage export using the \"kaleido\" engine requires the kaleido package,\nwhich can be installed using pip:\n    $ pip install -U kaleido\n"
     ]
    }
   ],
   "metadata": {}
  },
  {
   "cell_type": "code",
   "execution_count": null,
   "source": [
    "# Graph that shows the other indicator but for the Saty in Put index\r\n",
    "facebook_data_USA[facebook_data_USA.polygon_name == \"Los Angeles\"][\"all_day_ratio_single_tile_users\"].plot()\r\n",
    "# @Marie what do you think can explain the difference between these two indicatos in the second wave?\r\n",
    "# Actually they both reflect similar results in the sense that at the onset of the pandemy there is a peak of people who\r\n",
    "# stay at home, and then it goes down as distanctiation measures became softer. However, it is intersting to see that it remains on\r\n",
    "# average above 10%, which is the precovid Level"
   ],
   "outputs": [],
   "metadata": {}
  },
  {
   "cell_type": "code",
   "execution_count": null,
   "source": [
    "# It seems like there are several countyes that do not appear, and some others\r\n",
    "# that are repeated\r\n",
    "facebook_data_USA[facebook_data_USA.polygon_name == \"Nuckolls\"][\"all_day_ratio_single_tile_users\"].plot()\r\n",
    "# @Marie, we need to compe up with a code to check which counties are on the dataset\r\n",
    "# maybe we can start by doing a by state analysis"
   ],
   "outputs": [],
   "metadata": {}
  },
  {
   "cell_type": "code",
   "execution_count": null,
   "source": [
    "# checking the behavior of a random county in Nebraska\r\n",
    "facebook_data_USA[facebook_data_USA.polygon_name == \"Buffalo\"][\"all_day_bing_tiles_visited_relative_change\"].plot()\r\n",
    "# There is more than a county with the same name"
   ],
   "outputs": [],
   "metadata": {}
  },
  {
   "cell_type": "code",
   "execution_count": null,
   "source": [
    "#Usually the first two numbers are the state, I propose that we code for a given State and then we can iterate over\",\r\n",
    "\r\n",
    "State_code = []\r\n",
    "for state in facebook_data_USA[\"polygon_id\"]:\r\n",
    "# getting the code faster\r\n",
    "    if str(state)[:2] in State_code:\r\n",
    "        pass\r\n",
    "    else:\r\n",
    "        State_code.append(str(state)[:2])\r\n",
    "# I got 57 states to iterate over afterwards\r\n",
    "    len(State_code)\r\n",
    "# This code is to be used afterards, just a comment: better to use if conditions to save time and computer performance instead of\r\n",
    "# looping over all the observations"
   ],
   "outputs": [],
   "metadata": {}
  },
  {
   "cell_type": "code",
   "execution_count": null,
   "source": [
    "# Need to figure out how to get the values that coorrespond to a given state\r\n",
    "facebook_data_USA['polygon_id'] = facebook_data_USA['polygon_id'].astype(str)\r\n",
    "# It would be better to treat those values as strings, so that it will be easier to handle them\r\n",
    "facebook_data_USA[facebook_data_USA.polygon_id == '01?' ].head(2)"
   ],
   "outputs": [],
   "metadata": {}
  },
  {
   "cell_type": "code",
   "execution_count": null,
   "source": [
    "facebook_data_USA['polygon_id'].head(2)"
   ],
   "outputs": [],
   "metadata": {}
  },
  {
   "cell_type": "code",
   "execution_count": null,
   "source": [
    "# Maybe we need to check what happens at different time scales\",\r\n",
    "# # It will be usefull to graph the tie series\""
   ],
   "outputs": [],
   "metadata": {}
  },
  {
   "cell_type": "markdown",
   "source": [
    "Hi Santiago? Can you see my changes? \r\n",
    "\r\n",
    "Hello Marie yes"
   ],
   "metadata": {}
  }
 ],
 "metadata": {
  "orig_nbformat": 4,
  "language_info": {
   "name": "python",
   "version": "3.9.6",
   "mimetype": "text/x-python",
   "codemirror_mode": {
    "name": "ipython",
    "version": 3
   },
   "pygments_lexer": "ipython3",
   "nbconvert_exporter": "python",
   "file_extension": ".py"
  },
  "kernelspec": {
   "name": "python3",
   "display_name": "Python 3.9.6 64-bit"
  },
  "interpreter": {
   "hash": "e40cd9d5192be611a74bf7691654d1753a39e26a00148b0b160e6df45ea7fee6"
  }
 },
 "nbformat": 4,
 "nbformat_minor": 2
}