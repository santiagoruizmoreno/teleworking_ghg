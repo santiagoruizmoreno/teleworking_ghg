{
 "cells": [
  {
   "cell_type": "markdown",
   "source": [
    "Hello Marie.\r\n",
    "\r\n",
    "Regarding the organizatoin of the files for the project, I will be glad to hear your comments.\r\n",
    "\r\n",
    "I propose we create, so far, a ipynb documment to estimate the fall in demand of transportation by counties.\r\n",
    "\r\n",
    "And we will see how things go for the rest.\r\n",
    "\r\n",
    "I would create probably another file called,(ex_code) example code which contains some useful functions that I think could be useful for python.\r\n",
    "\r\n",
    "As for the comments, I guess we can use the following example below\r\n",
    "\r\n",
    "Don't hesitate to propose any comments, also if you think that it is too much of a work, we can may ask for an additional extra help, knowing that more people requires more coordination. \r\n",
    "\r\n",
    "Anywas, text me once you get to configurate your files and VS Code. \r\n",
    "\r\n",
    "Best"
   ],
   "metadata": {}
  },
  {
   "cell_type": "markdown",
   "source": [
    "Also when wanting to leave a special comment to other one I propose we use a @Marie or @Santiago tag at the beggining of the line\r\n",
    "@ Marie, ok?"
   ],
   "metadata": {}
  },
  {
   "cell_type": "code",
   "execution_count": null,
   "source": [
    "!pip install pandas\r\n",
    "!pip install numpy"
   ],
   "outputs": [],
   "metadata": {}
  },
  {
   "cell_type": "code",
   "execution_count": null,
   "source": [
    "###### The purpose of these lines is.....\r\n",
    "###### \r\n",
    "### Comment: What's the purpose of the function.\r\n",
    "def function (var1, var2)\r\n",
    "### What the function does, and why the variables are needed. \r\n",
    "    return()\r\n",
    "### what does it return and in which format"
   ],
   "outputs": [],
   "metadata": {}
  },
  {
   "cell_type": "code",
   "execution_count": null,
   "source": [
    "### Importing the needed packages\r\n",
    "import pandas as pd\r\n",
    "import numpy as np\r\n",
    "import os"
   ],
   "outputs": [],
   "metadata": {}
  },
  {
   "cell_type": "code",
   "execution_count": null,
   "source": [
    "# Setting the directory: Maybe instead of modifying this line, you can add a new line with your path\r\n",
    "os.chdir(\"C:/Users/santi/OneDrive/GHG_07_08_2021/teleworking_ghg/Data/movement-range-data-2021-04-27\")"
   ],
   "outputs": [],
   "metadata": {}
  },
  {
   "cell_type": "code",
   "execution_count": null,
   "source": [
    "#facebook_data = pd.read_table(\"movement-range-2021-04-27.txt\")"
   ],
   "outputs": [],
   "metadata": {}
  },
  {
   "cell_type": "code",
   "execution_count": null,
   "source": [
    "# Importing Facebook Data\r\n",
    "ones = []\r\n",
    "# loop to add a column of ones to the dataset \r\n",
    "for i in range(facebook_data.shape[0]):\r\n",
    "    ones.append(1)\r\n",
    "# Adding it to the dataset\r\n",
    "facebook_data['ones'] = ones\r\n",
    "# Getting the count of observations by Country\r\n",
    "by_country = facebook_data['ones'].groupby(facebook_data.country).sum()\r\n",
    "# Observatoins in the United States\r\n",
    "print(by_country[by_country.index == \"USA\"])\r\n",
    "# creating a smaller database with only USA's observations\r\n",
    "facebook_data_USA = facebook_data[facebook_data.country == \"USA\"]"
   ],
   "outputs": [],
   "metadata": {}
  },
  {
   "cell_type": "code",
   "execution_count": null,
   "source": [
    "# To check whether the poligons correspond with the ones in the Occupations dataset \r\n",
    "facebook_data_USA\r\n",
    "# checking the behavior of a random county in California\r\n",
    "facebook_data_USA[facebook_data_USA.polygon_name == \"Los Angeles\"][\"all_day_bing_tiles_visited_relative_change\"].plot()\r\n",
    "\r\n",
    "\r\n",
    "# @ Marie, the idea is to be able to estimate how the demand decrease based on that data, there are usually two points on time, where the indexes fall\r\n",
    "# down, I was wondering that we can ccompute it as the distance from the average one at the beginning, and the minimum point during the second wave.abs\r\n",
    "# @ Marie What do you think?"
   ],
   "outputs": [],
   "metadata": {}
  },
  {
   "cell_type": "code",
   "execution_count": null,
   "source": [
    "# Graph that shows the other indicator but for the Saty in Put index\r\n",
    "facebook_data_USA[facebook_data_USA.polygon_name == \"Los Angeles\"][\"all_day_ratio_single_tile_users\"].plot()\r\n",
    "# @Marie what do you think can explain the difference between these two indicatos in the second wave?\r\n",
    "# Actually they both reflect similar results in the sense that at the onset of the pandemy there is a peak of people who\r\n",
    "# stay at home, and then it goes down as distanctiation measures became softer. However, it is intersting to see that it remains on\r\n",
    "# average above 10%, which is the precovid Level"
   ],
   "outputs": [],
   "metadata": {}
  },
  {
   "cell_type": "code",
   "execution_count": null,
   "source": [
    "# It seems like there are several countyes that do not appear, and some others\r\n",
    "# that are repeated\r\n",
    "facebook_data_USA[facebook_data_USA.polygon_name == \"Nuckolls\"][\"all_day_ratio_single_tile_users\"].plot()\r\n",
    "# @Marie, we need to compe up with a code to check which counties are on the dataset\r\n",
    "# maybe we can start by doing a by state analysis"
   ],
   "outputs": [],
   "metadata": {}
  },
  {
   "cell_type": "code",
   "execution_count": null,
   "source": [
    "# checking the behavior of a random county in Nebraska\r\n",
    "facebook_data_USA[facebook_data_USA.polygon_name == \"Buffalo\"][\"all_day_bing_tiles_visited_relative_change\"].plot()\r\n",
    "# There is more than a county with the same name"
   ],
   "outputs": [],
   "metadata": {}
  },
  {
   "cell_type": "code",
   "execution_count": null,
   "source": [
    "by_country[by_country.index == 'COL']\r\n"
   ],
   "outputs": [],
   "metadata": {}
  }
 ],
 "metadata": {
  "orig_nbformat": 4,
  "language_info": {
   "name": "python"
  }
 },
 "nbformat": 4,
 "nbformat_minor": 2
}